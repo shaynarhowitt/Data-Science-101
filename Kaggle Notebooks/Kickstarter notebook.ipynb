{
 "cells": [
  {
   "cell_type": "markdown",
   "metadata": {},
   "source": [
    "# Predicting success of a kickstarter"
   ]
  },
  {
   "cell_type": "markdown",
   "metadata": {},
   "source": [
    "This notebook utilizes the Kickstarter data from Kaggle (https://www.kaggle.com/kemical/kickstarter-projects) to predict whether or not a project will be successfully funded."
   ]
  },
  {
   "cell_type": "code",
   "execution_count": 1,
   "metadata": {},
   "outputs": [
    {
     "name": "stderr",
     "output_type": "stream",
     "text": [
      "/anaconda3/lib/python3.7/site-packages/sklearn/ensemble/weight_boosting.py:29: DeprecationWarning: numpy.core.umath_tests is an internal NumPy module and should not be imported. It will be removed in a future NumPy release.\n",
      "  from numpy.core.umath_tests import inner1d\n"
     ]
    }
   ],
   "source": [
    "import pandas as pd\n",
    "import numpy as np\n",
    "import matplotlib.pyplot as plt\n",
    "import seaborn as sns\n",
    "\n",
    "from sklearn.preprocessing import StandardScaler\n",
    "from sklearn.metrics import classification_report, confusion_matrix, auc\n",
    "from sklearn.metrics import accuracy_score, log_loss\n",
    "\n",
    "from sklearn.model_selection import train_test_split, GridSearchCV\n",
    "from sklearn.ensemble import GradientBoostingClassifier, RandomForestClassifier\n",
    "from sklearn.linear_model import LogisticRegression\n",
    "from sklearn.naive_bayes import GaussianNB\n",
    "from sklearn import svm\n",
    "\n",
    "plt.style.use('ggplot')\n",
    "sns.set_style(\"whitegrid\")\n",
    "sns.set_palette('deep')\n",
    "% matplotlib inline"
   ]
  },
  {
   "cell_type": "markdown",
   "metadata": {},
   "source": [
    "## Data Exploration"
   ]
  },
  {
   "cell_type": "code",
   "execution_count": 2,
   "metadata": {},
   "outputs": [],
   "source": [
    "data = pd.read_csv('../data/ks-projects-201801.csv')"
   ]
  },
  {
   "cell_type": "code",
   "execution_count": 3,
   "metadata": {},
   "outputs": [
    {
     "data": {
      "text/html": [
       "<div>\n",
       "<style scoped>\n",
       "    .dataframe tbody tr th:only-of-type {\n",
       "        vertical-align: middle;\n",
       "    }\n",
       "\n",
       "    .dataframe tbody tr th {\n",
       "        vertical-align: top;\n",
       "    }\n",
       "\n",
       "    .dataframe thead th {\n",
       "        text-align: right;\n",
       "    }\n",
       "</style>\n",
       "<table border=\"1\" class=\"dataframe\">\n",
       "  <thead>\n",
       "    <tr style=\"text-align: right;\">\n",
       "      <th></th>\n",
       "      <th>ID</th>\n",
       "      <th>name</th>\n",
       "      <th>category</th>\n",
       "      <th>main_category</th>\n",
       "      <th>currency</th>\n",
       "      <th>deadline</th>\n",
       "      <th>goal</th>\n",
       "      <th>launched</th>\n",
       "      <th>pledged</th>\n",
       "      <th>state</th>\n",
       "      <th>backers</th>\n",
       "      <th>country</th>\n",
       "      <th>usd pledged</th>\n",
       "      <th>usd_pledged_real</th>\n",
       "      <th>usd_goal_real</th>\n",
       "    </tr>\n",
       "  </thead>\n",
       "  <tbody>\n",
       "    <tr>\n",
       "      <th>0</th>\n",
       "      <td>1000002330</td>\n",
       "      <td>The Songs of Adelaide &amp; Abullah</td>\n",
       "      <td>Poetry</td>\n",
       "      <td>Publishing</td>\n",
       "      <td>GBP</td>\n",
       "      <td>10/9/15</td>\n",
       "      <td>1000.0</td>\n",
       "      <td>8/11/15 12:12</td>\n",
       "      <td>0.0</td>\n",
       "      <td>failed</td>\n",
       "      <td>0</td>\n",
       "      <td>GB</td>\n",
       "      <td>0.0</td>\n",
       "      <td>0.0</td>\n",
       "      <td>1533.95</td>\n",
       "    </tr>\n",
       "    <tr>\n",
       "      <th>1</th>\n",
       "      <td>1000003930</td>\n",
       "      <td>Greeting From Earth: ZGAC Arts Capsule For ET</td>\n",
       "      <td>Narrative Film</td>\n",
       "      <td>Film &amp; Video</td>\n",
       "      <td>USD</td>\n",
       "      <td>11/1/17</td>\n",
       "      <td>30000.0</td>\n",
       "      <td>9/2/17 4:43</td>\n",
       "      <td>2421.0</td>\n",
       "      <td>failed</td>\n",
       "      <td>15</td>\n",
       "      <td>US</td>\n",
       "      <td>100.0</td>\n",
       "      <td>2421.0</td>\n",
       "      <td>30000.00</td>\n",
       "    </tr>\n",
       "    <tr>\n",
       "      <th>2</th>\n",
       "      <td>1000004038</td>\n",
       "      <td>Where is Hank?</td>\n",
       "      <td>Narrative Film</td>\n",
       "      <td>Film &amp; Video</td>\n",
       "      <td>USD</td>\n",
       "      <td>2/26/13</td>\n",
       "      <td>45000.0</td>\n",
       "      <td>1/12/13 0:20</td>\n",
       "      <td>220.0</td>\n",
       "      <td>failed</td>\n",
       "      <td>3</td>\n",
       "      <td>US</td>\n",
       "      <td>220.0</td>\n",
       "      <td>220.0</td>\n",
       "      <td>45000.00</td>\n",
       "    </tr>\n",
       "    <tr>\n",
       "      <th>3</th>\n",
       "      <td>1000007540</td>\n",
       "      <td>ToshiCapital Rekordz Needs Help to Complete Album</td>\n",
       "      <td>Music</td>\n",
       "      <td>Music</td>\n",
       "      <td>USD</td>\n",
       "      <td>4/16/12</td>\n",
       "      <td>5000.0</td>\n",
       "      <td>3/17/12 3:24</td>\n",
       "      <td>1.0</td>\n",
       "      <td>failed</td>\n",
       "      <td>1</td>\n",
       "      <td>US</td>\n",
       "      <td>1.0</td>\n",
       "      <td>1.0</td>\n",
       "      <td>5000.00</td>\n",
       "    </tr>\n",
       "    <tr>\n",
       "      <th>4</th>\n",
       "      <td>1000011046</td>\n",
       "      <td>Community Film Project: The Art of Neighborhoo...</td>\n",
       "      <td>Film &amp; Video</td>\n",
       "      <td>Film &amp; Video</td>\n",
       "      <td>USD</td>\n",
       "      <td>8/29/15</td>\n",
       "      <td>19500.0</td>\n",
       "      <td>7/4/15 8:35</td>\n",
       "      <td>1283.0</td>\n",
       "      <td>canceled</td>\n",
       "      <td>14</td>\n",
       "      <td>US</td>\n",
       "      <td>1283.0</td>\n",
       "      <td>1283.0</td>\n",
       "      <td>19500.00</td>\n",
       "    </tr>\n",
       "  </tbody>\n",
       "</table>\n",
       "</div>"
      ],
      "text/plain": [
       "           ID                                               name  \\\n",
       "0  1000002330                    The Songs of Adelaide & Abullah   \n",
       "1  1000003930      Greeting From Earth: ZGAC Arts Capsule For ET   \n",
       "2  1000004038                                     Where is Hank?   \n",
       "3  1000007540  ToshiCapital Rekordz Needs Help to Complete Album   \n",
       "4  1000011046  Community Film Project: The Art of Neighborhoo...   \n",
       "\n",
       "         category main_category currency deadline     goal       launched  \\\n",
       "0          Poetry    Publishing      GBP  10/9/15   1000.0  8/11/15 12:12   \n",
       "1  Narrative Film  Film & Video      USD  11/1/17  30000.0    9/2/17 4:43   \n",
       "2  Narrative Film  Film & Video      USD  2/26/13  45000.0   1/12/13 0:20   \n",
       "3           Music         Music      USD  4/16/12   5000.0   3/17/12 3:24   \n",
       "4    Film & Video  Film & Video      USD  8/29/15  19500.0    7/4/15 8:35   \n",
       "\n",
       "   pledged     state  backers country  usd pledged  usd_pledged_real  \\\n",
       "0      0.0    failed        0      GB          0.0               0.0   \n",
       "1   2421.0    failed       15      US        100.0            2421.0   \n",
       "2    220.0    failed        3      US        220.0             220.0   \n",
       "3      1.0    failed        1      US          1.0               1.0   \n",
       "4   1283.0  canceled       14      US       1283.0            1283.0   \n",
       "\n",
       "   usd_goal_real  \n",
       "0        1533.95  \n",
       "1       30000.00  \n",
       "2       45000.00  \n",
       "3        5000.00  \n",
       "4       19500.00  "
      ]
     },
     "execution_count": 3,
     "metadata": {},
     "output_type": "execute_result"
    }
   ],
   "source": [
    "data.head()"
   ]
  },
  {
   "cell_type": "code",
   "execution_count": 4,
   "metadata": {},
   "outputs": [
    {
     "data": {
      "text/plain": [
       "Index(['ID', 'name', 'category', 'main_category', 'currency', 'deadline',\n",
       "       'goal', 'launched', 'pledged', 'state', 'backers', 'country',\n",
       "       'usd pledged', 'usd_pledged_real', 'usd_goal_real'],\n",
       "      dtype='object')"
      ]
     },
     "execution_count": 4,
     "metadata": {},
     "output_type": "execute_result"
    }
   ],
   "source": [
    "data.columns"
   ]
  },
  {
   "cell_type": "code",
   "execution_count": 5,
   "metadata": {},
   "outputs": [
    {
     "data": {
      "text/html": [
       "<div>\n",
       "<style scoped>\n",
       "    .dataframe tbody tr th:only-of-type {\n",
       "        vertical-align: middle;\n",
       "    }\n",
       "\n",
       "    .dataframe tbody tr th {\n",
       "        vertical-align: top;\n",
       "    }\n",
       "\n",
       "    .dataframe thead th {\n",
       "        text-align: right;\n",
       "    }\n",
       "</style>\n",
       "<table border=\"1\" class=\"dataframe\">\n",
       "  <thead>\n",
       "    <tr style=\"text-align: right;\">\n",
       "      <th></th>\n",
       "      <th>ID</th>\n",
       "      <th>goal</th>\n",
       "      <th>pledged</th>\n",
       "      <th>backers</th>\n",
       "      <th>usd pledged</th>\n",
       "      <th>usd_pledged_real</th>\n",
       "      <th>usd_goal_real</th>\n",
       "    </tr>\n",
       "  </thead>\n",
       "  <tbody>\n",
       "    <tr>\n",
       "      <th>count</th>\n",
       "      <td>3.786610e+05</td>\n",
       "      <td>3.786610e+05</td>\n",
       "      <td>3.786610e+05</td>\n",
       "      <td>378661.000000</td>\n",
       "      <td>3.748640e+05</td>\n",
       "      <td>3.786610e+05</td>\n",
       "      <td>3.786610e+05</td>\n",
       "    </tr>\n",
       "    <tr>\n",
       "      <th>mean</th>\n",
       "      <td>1.074731e+09</td>\n",
       "      <td>4.908079e+04</td>\n",
       "      <td>9.682979e+03</td>\n",
       "      <td>105.617476</td>\n",
       "      <td>7.036729e+03</td>\n",
       "      <td>9.058924e+03</td>\n",
       "      <td>4.545440e+04</td>\n",
       "    </tr>\n",
       "    <tr>\n",
       "      <th>std</th>\n",
       "      <td>6.190862e+08</td>\n",
       "      <td>1.183391e+06</td>\n",
       "      <td>9.563601e+04</td>\n",
       "      <td>907.185035</td>\n",
       "      <td>7.863975e+04</td>\n",
       "      <td>9.097334e+04</td>\n",
       "      <td>1.152950e+06</td>\n",
       "    </tr>\n",
       "    <tr>\n",
       "      <th>min</th>\n",
       "      <td>5.971000e+03</td>\n",
       "      <td>1.000000e-02</td>\n",
       "      <td>0.000000e+00</td>\n",
       "      <td>0.000000</td>\n",
       "      <td>0.000000e+00</td>\n",
       "      <td>0.000000e+00</td>\n",
       "      <td>1.000000e-02</td>\n",
       "    </tr>\n",
       "    <tr>\n",
       "      <th>25%</th>\n",
       "      <td>5.382635e+08</td>\n",
       "      <td>2.000000e+03</td>\n",
       "      <td>3.000000e+01</td>\n",
       "      <td>2.000000</td>\n",
       "      <td>1.698000e+01</td>\n",
       "      <td>3.100000e+01</td>\n",
       "      <td>2.000000e+03</td>\n",
       "    </tr>\n",
       "    <tr>\n",
       "      <th>50%</th>\n",
       "      <td>1.075276e+09</td>\n",
       "      <td>5.200000e+03</td>\n",
       "      <td>6.200000e+02</td>\n",
       "      <td>12.000000</td>\n",
       "      <td>3.947200e+02</td>\n",
       "      <td>6.243300e+02</td>\n",
       "      <td>5.500000e+03</td>\n",
       "    </tr>\n",
       "    <tr>\n",
       "      <th>75%</th>\n",
       "      <td>1.610149e+09</td>\n",
       "      <td>1.600000e+04</td>\n",
       "      <td>4.076000e+03</td>\n",
       "      <td>56.000000</td>\n",
       "      <td>3.034090e+03</td>\n",
       "      <td>4.050000e+03</td>\n",
       "      <td>1.550000e+04</td>\n",
       "    </tr>\n",
       "    <tr>\n",
       "      <th>max</th>\n",
       "      <td>2.147476e+09</td>\n",
       "      <td>1.000000e+08</td>\n",
       "      <td>2.033899e+07</td>\n",
       "      <td>219382.000000</td>\n",
       "      <td>2.033899e+07</td>\n",
       "      <td>2.033899e+07</td>\n",
       "      <td>1.663614e+08</td>\n",
       "    </tr>\n",
       "  </tbody>\n",
       "</table>\n",
       "</div>"
      ],
      "text/plain": [
       "                 ID          goal       pledged        backers   usd pledged  \\\n",
       "count  3.786610e+05  3.786610e+05  3.786610e+05  378661.000000  3.748640e+05   \n",
       "mean   1.074731e+09  4.908079e+04  9.682979e+03     105.617476  7.036729e+03   \n",
       "std    6.190862e+08  1.183391e+06  9.563601e+04     907.185035  7.863975e+04   \n",
       "min    5.971000e+03  1.000000e-02  0.000000e+00       0.000000  0.000000e+00   \n",
       "25%    5.382635e+08  2.000000e+03  3.000000e+01       2.000000  1.698000e+01   \n",
       "50%    1.075276e+09  5.200000e+03  6.200000e+02      12.000000  3.947200e+02   \n",
       "75%    1.610149e+09  1.600000e+04  4.076000e+03      56.000000  3.034090e+03   \n",
       "max    2.147476e+09  1.000000e+08  2.033899e+07  219382.000000  2.033899e+07   \n",
       "\n",
       "       usd_pledged_real  usd_goal_real  \n",
       "count      3.786610e+05   3.786610e+05  \n",
       "mean       9.058924e+03   4.545440e+04  \n",
       "std        9.097334e+04   1.152950e+06  \n",
       "min        0.000000e+00   1.000000e-02  \n",
       "25%        3.100000e+01   2.000000e+03  \n",
       "50%        6.243300e+02   5.500000e+03  \n",
       "75%        4.050000e+03   1.550000e+04  \n",
       "max        2.033899e+07   1.663614e+08  "
      ]
     },
     "execution_count": 5,
     "metadata": {},
     "output_type": "execute_result"
    }
   ],
   "source": [
    "data.describe()"
   ]
  },
  {
   "cell_type": "markdown",
   "metadata": {},
   "source": [
    "### Categories"
   ]
  },
  {
   "cell_type": "code",
   "execution_count": 6,
   "metadata": {},
   "outputs": [
    {
     "name": "stdout",
     "output_type": "stream",
     "text": [
      "There are 159 categories.\n"
     ]
    }
   ],
   "source": [
    "print('There are', data['category'].unique().size, 'categories.')"
   ]
  },
  {
   "cell_type": "code",
   "execution_count": 7,
   "metadata": {},
   "outputs": [
    {
     "data": {
      "text/plain": [
       "Text(0.5,1,'Most common categories')"
      ]
     },
     "execution_count": 7,
     "metadata": {},
     "output_type": "execute_result"
    },
    {
     "data": {
      "image/png": "[encoded data removed]",
      "text/plain": [
       "<Figure size 432x288 with 1 Axes>"
      ]
     },
     "metadata": {
      "needs_background": "light"
     },
     "output_type": "display_data"
    }
   ],
   "source": [
    "data['category'].value_counts()[0:10].plot.bar().set_title('Most common categories')"
   ]
  },
  {
   "cell_type": "code",
   "execution_count": 8,
   "metadata": {},
   "outputs": [
    {
     "name": "stdout",
     "output_type": "stream",
     "text": [
      "There are 15 main categories.\n"
     ]
    }
   ],
   "source": [
    "print('There are', data['main_category'].unique().size, 'main categories.')"
   ]
  },
  {
   "cell_type": "code",
   "execution_count": 9,
   "metadata": {},
   "outputs": [
    {
     "data": {
      "image/png": "[encoded data removed]",
      "text/plain": [
       "<Figure size 432x288 with 1 Axes>"
      ]
     },
     "metadata": {
      "needs_background": "light"
     },
     "output_type": "display_data"
    }
   ],
   "source": [
    "data['main_category'].value_counts()[0:10].plot.bar().set_title('Most common main categories')\n",
    "plt.show()"
   ]
  },
  {
   "cell_type": "code",
   "execution_count": 10,
   "metadata": {},
   "outputs": [],
   "source": [
    "groups = data.groupby(['main_category'])['category'].unique().to_frame()\n",
    "groups['number_of_sub_categories'] = groups['category'].apply(lambda x: x.size)\n",
    "groups.drop('category', axis=1, inplace = True)\n",
    "groups = groups.sort_values(by = 'number_of_sub_categories')"
   ]
  },
  {
   "cell_type": "code",
   "execution_count": 11,
   "metadata": {},
   "outputs": [
    {
     "data": {
      "image/png": "[encoded data removed]",
      "text/plain": [
       "<Figure size 504x360 with 1 Axes>"
      ]
     },
     "metadata": {
      "needs_background": "light"
     },
     "output_type": "display_data"
    }
   ],
   "source": [
    "groups.plot.barh(legend=None, figsize=(7, 5))\n",
    "plt.title('Number of Sub Categories')\n",
    "plt.ylabel('Main Category')\n",
    "plt.xticks(np.arange(0,20, step = 4))\n",
    "plt.show()"
   ]
  },
  {
   "cell_type": "markdown",
   "metadata": {},
   "source": [
    "### Currency"
   ]
  },
  {
   "cell_type": "code",
   "execution_count": 12,
   "metadata": {},
   "outputs": [],
   "source": [
    "currency_counts = data['currency'].value_counts()"
   ]
  },
  {
   "cell_type": "code",
   "execution_count": 13,
   "metadata": {},
   "outputs": [
    {
     "name": "stdout",
     "output_type": "stream",
     "text": [
      "USD is the most represented currency, with 295365 instances.\n"
     ]
    }
   ],
   "source": [
    "print(currency_counts.index[0], 'is the most represented currency, with', \n",
    "      currency_counts[0], 'instances.')"
   ]
  },
  {
   "cell_type": "code",
   "execution_count": 14,
   "metadata": {},
   "outputs": [
    {
     "data": {
      "image/png": "[encoded data removed]",
      "text/plain": [
       "<Figure size 432x288 with 1 Axes>"
      ]
     },
     "metadata": {
      "needs_background": "light"
     },
     "output_type": "display_data"
    }
   ],
   "source": [
    "currency_counts.drop('USD').plot.bar()\n",
    "plt.title('Non-USD Currency Counts')\n",
    "plt.show()"
   ]
  },
  {
   "cell_type": "markdown",
   "metadata": {},
   "source": [
    "### Date Launched"
   ]
  },
  {
   "cell_type": "code",
   "execution_count": 15,
   "metadata": {},
   "outputs": [
    {
     "data": {
      "text/plain": [
       "2015    77300\n",
       "2014    67745\n",
       "2016    57184\n",
       "2017    52200\n",
       "2013    44851\n",
       "2012    41165\n",
       "2011    26237\n",
       "2010    10519\n",
       "2009     1329\n",
       "2018      124\n",
       "1970        7\n",
       "Name: launched, dtype: int64"
      ]
     },
     "execution_count": 15,
     "metadata": {},
     "output_type": "execute_result"
    }
   ],
   "source": [
    "data['launched'] = pd.to_datetime(data['launched'])\n",
    "year_launched = data['launched'].dt.year\n",
    "year_launched.value_counts()"
   ]
  },
  {
   "cell_type": "code",
   "execution_count": 16,
   "metadata": {},
   "outputs": [],
   "source": [
    "index_1970 = data[data['launched'].dt.year == 1970].index\n",
    "data.drop(index = index_1970, inplace = True)"
   ]
  },
  {
   "cell_type": "code",
   "execution_count": 17,
   "metadata": {},
   "outputs": [
    {
     "data": {
      "text/plain": [
       "2015    77300\n",
       "2014    67745\n",
       "2016    57184\n",
       "2017    52200\n",
       "2013    44851\n",
       "2012    41165\n",
       "2011    26237\n",
       "2010    10519\n",
       "2009     1329\n",
       "2018      124\n",
       "Name: year_launched, dtype: int64"
      ]
     },
     "execution_count": 17,
     "metadata": {},
     "output_type": "execute_result"
    }
   ],
   "source": [
    "data['year_launched'] = data['launched'].dt.year\n",
    "data['year_launched'].value_counts()"
   ]
  },
  {
   "cell_type": "code",
   "execution_count": 18,
   "metadata": {},
   "outputs": [
    {
     "data": {
      "image/png": "[encoded data removed]",
      "text/plain": [
       "<Figure size 432x288 with 1 Axes>"
      ]
     },
     "metadata": {
      "needs_background": "light"
     },
     "output_type": "display_data"
    }
   ],
   "source": [
    "launched_counts = data['year_launched'].value_counts()\n",
    "launched_counts = launched_counts.reindex(index = [2009, 2010, 2011, 2012, 2013, 2014, 2015, 2016, 2017, 2018])\n",
    "launched_counts.plot()\n",
    "plt.title('Launch by Year')\n",
    "plt.ylabel('Number of projects')\n",
    "plt.show()"
   ]
  },
  {
   "cell_type": "markdown",
   "metadata": {},
   "source": [
    "### Deadline"
   ]
  },
  {
   "cell_type": "code",
   "execution_count": 19,
   "metadata": {},
   "outputs": [
    {
     "data": {
      "text/plain": [
       "0    10/9/15\n",
       "1    11/1/17\n",
       "2    2/26/13\n",
       "3    4/16/12\n",
       "4    8/29/15\n",
       "Name: deadline, dtype: object"
      ]
     },
     "execution_count": 19,
     "metadata": {},
     "output_type": "execute_result"
    }
   ],
   "source": [
    "data['deadline'][0:5]"
   ]
  },
  {
   "cell_type": "code",
   "execution_count": 20,
   "metadata": {},
   "outputs": [],
   "source": [
    "data['deadline'] =  pd.to_datetime(data['deadline'], format='%m/%d/%y')\n",
    "data['deadline_year'] = data['deadline'].dt.year"
   ]
  },
  {
   "cell_type": "code",
   "execution_count": 21,
   "metadata": {},
   "outputs": [
    {
     "data": {
      "image/png": "[encoded data removed]",
      "text/plain": [
       "<Figure size 432x288 with 1 Axes>"
      ]
     },
     "metadata": {
      "needs_background": "light"
     },
     "output_type": "display_data"
    }
   ],
   "source": [
    "year_counts = data['deadline_year'].value_counts()\n",
    "year_counts = year_counts.reindex(index = [2009, 2010, 2011, 2012, 2013, 2014, 2015, 2016, 2017, 2018])\n",
    "year_counts.plot()\n",
    "plt.title('Deadline by Year')\n",
    "plt.ylabel('Number of projects')\n",
    "plt.show()"
   ]
  },
  {
   "cell_type": "markdown",
   "metadata": {},
   "source": [
    "### Goal"
   ]
  },
  {
   "cell_type": "markdown",
   "metadata": {},
   "source": [
    "**Goals over years**"
   ]
  },
  {
   "cell_type": "code",
   "execution_count": 22,
   "metadata": {},
   "outputs": [
    {
     "data": {
      "text/plain": [
       "count    3.786540e+05\n",
       "mean     4.908160e+04\n",
       "std      1.183402e+06\n",
       "min      1.000000e-02\n",
       "25%      2.000000e+03\n",
       "50%      5.200000e+03\n",
       "75%      1.600000e+04\n",
       "max      1.000000e+08\n",
       "Name: goal, dtype: float64"
      ]
     },
     "execution_count": 22,
     "metadata": {},
     "output_type": "execute_result"
    }
   ],
   "source": [
    "data['goal'].describe()"
   ]
  },
  {
   "cell_type": "code",
   "execution_count": 23,
   "metadata": {},
   "outputs": [
    {
     "data": {
      "image/png": "[encoded data removed]",
      "text/plain": [
       "<Figure size 432x288 with 1 Axes>"
      ]
     },
     "metadata": {
      "needs_background": "light"
     },
     "output_type": "display_data"
    }
   ],
   "source": [
    "data.boxplot(column = ['goal'], by = ['deadline_year'])\n",
    "plt.ylim(0, 10000000)\n",
    "plt.xlabel('Deadline year')\n",
    "plt.ylabel('Number of instances')\n",
    "plt.show()"
   ]
  },
  {
   "cell_type": "code",
   "execution_count": 24,
   "metadata": {},
   "outputs": [
    {
     "data": {
      "image/png": "[encoded data removed]",
      "text/plain": [
       "<Figure size 432x288 with 1 Axes>"
      ]
     },
     "metadata": {
      "needs_background": "light"
     },
     "output_type": "display_data"
    }
   ],
   "source": [
    "data.boxplot(column = ['goal'], by = ['deadline_year'])\n",
    "plt.ylim(0, 100000)\n",
    "plt.xlabel('Deadline year')\n",
    "plt.ylabel('Number of instances, close up')\n",
    "plt.show()"
   ]
  },
  {
   "cell_type": "markdown",
   "metadata": {},
   "source": [
    "**Ranges of goals**"
   ]
  },
  {
   "cell_type": "code",
   "execution_count": 25,
   "metadata": {},
   "outputs": [],
   "source": [
    "def split_ranges(x):\n",
    "    if(x < 500):\n",
    "        return '100 to 500'\n",
    "    elif(500 <= x < 1000):\n",
    "        return '500 to 1k'\n",
    "    elif(1000 <= x < 5000):\n",
    "        return '1k to 5k'\n",
    "    elif(5000 <= x < 10000):\n",
    "        return '5k to 10k'\n",
    "    elif(10000 <= x < 50000):\n",
    "        return '10k to 50k'\n",
    "    elif(50000 <= x < 100000):\n",
    "        return '50k to 100k'\n",
    "    elif(100000 <= x < 500000):\n",
    "        return '100k to 500k'\n",
    "    elif(500000 <= x < 1000000):\n",
    "        return '500k to 1m'\n",
    "    else:\n",
    "        return '1m+'"
   ]
  },
  {
   "cell_type": "code",
   "execution_count": 26,
   "metadata": {},
   "outputs": [],
   "source": [
    "data['goal_range'] = data['goal'].apply(split_ranges)"
   ]
  },
  {
   "cell_type": "code",
   "execution_count": 27,
   "metadata": {},
   "outputs": [
    {
     "data": {
      "image/png": "[encoded data removed]",
      "text/plain": [
       "<Figure size 432x288 with 1 Axes>"
      ]
     },
     "metadata": {
      "needs_background": "light"
     },
     "output_type": "display_data"
    }
   ],
   "source": [
    "data['goal_range'].value_counts().plot.barh()\n",
    "plt.xlabel('Number of instances')\n",
    "plt.ylabel('Goal range')\n",
    "plt.title('Distribution of goal ranges')\n",
    "plt.show()"
   ]
  },
  {
   "cell_type": "markdown",
   "metadata": {},
   "source": [
    "### Pledged"
   ]
  },
  {
   "cell_type": "code",
   "execution_count": 28,
   "metadata": {},
   "outputs": [
    {
     "data": {
      "text/plain": [
       "Text(0.5,1,'Amount Pledged')"
      ]
     },
     "execution_count": 28,
     "metadata": {},
     "output_type": "execute_result"
    },
    {
     "data": {
      "image/png": "[encoded data removed]",
      "text/plain": [
       "<Figure size 432x288 with 1 Axes>"
      ]
     },
     "metadata": {
      "needs_background": "light"
     },
     "output_type": "display_data"
    }
   ],
   "source": [
    "sns.stripplot(data['pledged'])\n",
    "plt.title('Amount Pledged')"
   ]
  },
  {
   "cell_type": "code",
   "execution_count": 29,
   "metadata": {},
   "outputs": [
    {
     "data": {
      "text/html": [
       "<div>\n",
       "<style scoped>\n",
       "    .dataframe tbody tr th:only-of-type {\n",
       "        vertical-align: middle;\n",
       "    }\n",
       "\n",
       "    .dataframe tbody tr th {\n",
       "        vertical-align: top;\n",
       "    }\n",
       "\n",
       "    .dataframe thead th {\n",
       "        text-align: right;\n",
       "    }\n",
       "</style>\n",
       "<table border=\"1\" class=\"dataframe\">\n",
       "  <thead>\n",
       "    <tr style=\"text-align: right;\">\n",
       "      <th></th>\n",
       "      <th>ID</th>\n",
       "      <th>name</th>\n",
       "      <th>category</th>\n",
       "      <th>main_category</th>\n",
       "      <th>currency</th>\n",
       "      <th>deadline</th>\n",
       "      <th>goal</th>\n",
       "      <th>launched</th>\n",
       "      <th>pledged</th>\n",
       "      <th>state</th>\n",
       "      <th>backers</th>\n",
       "      <th>country</th>\n",
       "      <th>usd pledged</th>\n",
       "      <th>usd_pledged_real</th>\n",
       "      <th>usd_goal_real</th>\n",
       "      <th>year_launched</th>\n",
       "      <th>deadline_year</th>\n",
       "      <th>goal_range</th>\n",
       "    </tr>\n",
       "  </thead>\n",
       "  <tbody>\n",
       "    <tr>\n",
       "      <th>157270</th>\n",
       "      <td>1799979574</td>\n",
       "      <td>Pebble Time - Awesome Smartwatch, No Compromises</td>\n",
       "      <td>Product Design</td>\n",
       "      <td>Design</td>\n",
       "      <td>USD</td>\n",
       "      <td>2015-03-28</td>\n",
       "      <td>500000.0</td>\n",
       "      <td>2015-02-24 15:44:00</td>\n",
       "      <td>20338986.27</td>\n",
       "      <td>successful</td>\n",
       "      <td>78471</td>\n",
       "      <td>US</td>\n",
       "      <td>20338986.27</td>\n",
       "      <td>20338986.27</td>\n",
       "      <td>500000.0</td>\n",
       "      <td>2015</td>\n",
       "      <td>2015</td>\n",
       "      <td>500k to 1m</td>\n",
       "    </tr>\n",
       "  </tbody>\n",
       "</table>\n",
       "</div>"
      ],
      "text/plain": [
       "                ID                                              name  \\\n",
       "157270  1799979574  Pebble Time - Awesome Smartwatch, No Compromises   \n",
       "\n",
       "              category main_category currency   deadline      goal  \\\n",
       "157270  Product Design        Design      USD 2015-03-28  500000.0   \n",
       "\n",
       "                  launched      pledged       state  backers country  \\\n",
       "157270 2015-02-24 15:44:00  20338986.27  successful    78471      US   \n",
       "\n",
       "        usd pledged  usd_pledged_real  usd_goal_real  year_launched  \\\n",
       "157270  20338986.27       20338986.27       500000.0           2015   \n",
       "\n",
       "        deadline_year  goal_range  \n",
       "157270           2015  500k to 1m  "
      ]
     },
     "execution_count": 29,
     "metadata": {},
     "output_type": "execute_result"
    }
   ],
   "source": [
    "data[data['pledged'] > 20000000]"
   ]
  },
  {
   "cell_type": "markdown",
   "metadata": {},
   "source": [
    "**Pledged by category**"
   ]
  },
  {
   "cell_type": "code",
   "execution_count": 30,
   "metadata": {},
   "outputs": [
    {
     "data": {
      "image/png": "[encoded data removed]",
      "text/plain": [
       "<Figure size 432x288 with 1 Axes>"
      ]
     },
     "metadata": {
      "needs_background": "light"
     },
     "output_type": "display_data"
    }
   ],
   "source": [
    "sns.stripplot(x = data['main_category'], y = data['pledged'])\n",
    "plt.ylim(0, 15000000)\n",
    "plt.xticks(rotation = 'vertical')\n",
    "plt.show()"
   ]
  },
  {
   "cell_type": "markdown",
   "metadata": {},
   "source": [
    "**Pledged by goal**"
   ]
  },
  {
   "cell_type": "code",
   "execution_count": 31,
   "metadata": {},
   "outputs": [
    {
     "data": {
      "image/png": "[encoded data removed]",
      "text/plain": [
       "<Figure size 432x288 with 1 Axes>"
      ]
     },
     "metadata": {
      "needs_background": "light"
     },
     "output_type": "display_data"
    }
   ],
   "source": [
    "sns.scatterplot(x = 'pledged', y = 'goal', data = data)\n",
    "plt.xlim(0, 15000000)\n",
    "plt.show()"
   ]
  },
  {
   "cell_type": "markdown",
   "metadata": {},
   "source": [
    "### State"
   ]
  },
  {
   "cell_type": "code",
   "execution_count": 32,
   "metadata": {},
   "outputs": [
    {
     "data": {
      "image/png": "[encoded data removed]",
      "text/plain": [
       "<Figure size 432x288 with 1 Axes>"
      ]
     },
     "metadata": {
      "needs_background": "light"
     },
     "output_type": "display_data"
    }
   ],
   "source": [
    "data['state'].value_counts().plot.bar()\n",
    "plt.xlabel('State of project')\n",
    "plt.ylabel('Number of instances')\n",
    "plt.title('Distribution of instances')\n",
    "plt.show()"
   ]
  },
  {
   "cell_type": "markdown",
   "metadata": {},
   "source": [
    "**State by category**"
   ]
  },
  {
   "cell_type": "code",
   "execution_count": 33,
   "metadata": {},
   "outputs": [
    {
     "data": {
      "image/png": "[encoded data removed]",
      "text/plain": [
       "<Figure size 2160x2160 with 1 Axes>"
      ]
     },
     "metadata": {
      "needs_background": "light"
     },
     "output_type": "display_data"
    }
   ],
   "source": [
    "plt.figure(figsize=(30, 30))\n",
    "ax = sns.countplot(y = 'main_category', hue = 'state', data = data)\n",
    "ax.legend(bbox_to_anchor=(1, 1))\n",
    "plt.title('State by Category', fontsize = 40)\n",
    "plt.ylabel('Main category', fontsize = 35)\n",
    "plt.xlabel('Number of instances', fontsize = 35)\n",
    "plt.tick_params(axis='both', which='major', labelsize=30)\n",
    "plt.tick_params(axis='both', which='minor', labelsize=30)\n",
    "plt.setp(ax.get_legend().get_texts(), fontsize='35') \n",
    "plt.show()"
   ]
  },
  {
   "cell_type": "markdown",
   "metadata": {},
   "source": [
    "**Distribution of states by category**"
   ]
  },
  {
   "cell_type": "code",
   "execution_count": 34,
   "metadata": {},
   "outputs": [],
   "source": [
    "cat_by_state = data.groupby(['main_category', 'state'])['state'].count()\n",
    "cat_pcts = cat_by_state.groupby(level=0).apply(lambda x: (x / x.sum()))\n",
    "cat_pcts = cat_pcts.to_frame().unstack().fillna(0).round(2)"
   ]
  },
  {
   "cell_type": "code",
   "execution_count": 35,
   "metadata": {},
   "outputs": [
    {
     "data": {
      "image/png": "[encoded data removed]",
      "text/plain": [
       "<Figure size 2304x2304 with 3 Axes>"
      ]
     },
     "metadata": {
      "needs_background": "light"
     },
     "output_type": "display_data"
    }
   ],
   "source": [
    "plt.figure(figsize=(32, 32))\n",
    "\n",
    "plt.subplot(2, 2, 1)\n",
    "cat_pcts.T.loc[['state'][0]].iloc[0].plot.barh() \n",
    "plt.tick_params(axis='both', which='major', labelsize=22)\n",
    "plt.ylabel('Main category', fontsize = 30)\n",
    "plt.title('Canceled rates by category', fontsize = 35)\n",
    "\n",
    "plt.subplot(2, 2, 2) \n",
    "cat_pcts.T.loc[['state'][0]].iloc[1].plot.barh() \n",
    "plt.tick_params(axis='both', which='major', labelsize=22)\n",
    "plt.ylabel('')\n",
    "plt.title('Failed rates by category', fontsize = 35)\n",
    "\n",
    "plt.subplot(2, 2, 3) #successful \n",
    "cat_pcts.T.loc[['state'][0]].iloc[3].plot.barh()\n",
    "plt.tick_params(axis='both', which='major', labelsize=22)\n",
    "plt.ylabel('Main category', fontsize = 30)\n",
    "plt.title('Successful rates by category', fontsize = 35)\n",
    "\n",
    "plt.show()"
   ]
  },
  {
   "cell_type": "markdown",
   "metadata": {},
   "source": [
    "### Backers"
   ]
  },
  {
   "cell_type": "markdown",
   "metadata": {},
   "source": [
    "**Distribution of backers**"
   ]
  },
  {
   "cell_type": "code",
   "execution_count": 36,
   "metadata": {},
   "outputs": [
    {
     "data": {
      "text/plain": [
       "count    378654.000000\n",
       "mean        105.619428\n",
       "std         907.193306\n",
       "min           0.000000\n",
       "25%           2.000000\n",
       "50%          12.000000\n",
       "75%          56.000000\n",
       "max      219382.000000\n",
       "Name: backers, dtype: float64"
      ]
     },
     "execution_count": 36,
     "metadata": {},
     "output_type": "execute_result"
    }
   ],
   "source": [
    "data['backers'].describe()"
   ]
  },
  {
   "cell_type": "code",
   "execution_count": 37,
   "metadata": {},
   "outputs": [
    {
     "data": {
      "image/png": "[encoded data removed]",
      "text/plain": [
       "<Figure size 432x288 with 1 Axes>"
      ]
     },
     "metadata": {
      "needs_background": "light"
     },
     "output_type": "display_data"
    }
   ],
   "source": [
    "sns.stripplot(x = 'backers', y = 'main_category', data = data)\n",
    "plt.xlim(0, 100000)\n",
    "plt.show()"
   ]
  },
  {
   "cell_type": "code",
   "execution_count": 38,
   "metadata": {},
   "outputs": [
    {
     "data": {
      "image/png": "[encoded data removed]",
      "text/plain": [
       "<Figure size 432x288 with 1 Axes>"
      ]
     },
     "metadata": {
      "needs_background": "light"
     },
     "output_type": "display_data"
    }
   ],
   "source": [
    "sns.stripplot(x = 'backers', y = 'state', data = data)\n",
    "plt.xlim(0, 120000)\n",
    "plt.show()"
   ]
  },
  {
   "cell_type": "markdown",
   "metadata": {},
   "source": [
    "**Campaigns with the most backers**"
   ]
  },
  {
   "cell_type": "code",
   "execution_count": 39,
   "metadata": {},
   "outputs": [
    {
     "data": {
      "text/html": [
       "<div>\n",
       "<style scoped>\n",
       "    .dataframe tbody tr th:only-of-type {\n",
       "        vertical-align: middle;\n",
       "    }\n",
       "\n",
       "    .dataframe tbody tr th {\n",
       "        vertical-align: top;\n",
       "    }\n",
       "\n",
       "    .dataframe thead th {\n",
       "        text-align: right;\n",
       "    }\n",
       "</style>\n",
       "<table border=\"1\" class=\"dataframe\">\n",
       "  <thead>\n",
       "    <tr style=\"text-align: right;\">\n",
       "      <th></th>\n",
       "      <th>category</th>\n",
       "      <th>state</th>\n",
       "      <th>backers</th>\n",
       "    </tr>\n",
       "    <tr>\n",
       "      <th>name</th>\n",
       "      <th></th>\n",
       "      <th></th>\n",
       "      <th></th>\n",
       "    </tr>\n",
       "  </thead>\n",
       "  <tbody>\n",
       "    <tr>\n",
       "      <th>Exploding Kittens</th>\n",
       "      <td>Tabletop Games</td>\n",
       "      <td>successful</td>\n",
       "      <td>219382</td>\n",
       "    </tr>\n",
       "    <tr>\n",
       "      <th>Fidget Cube: A Vinyl Desk Toy</th>\n",
       "      <td>Product Design</td>\n",
       "      <td>successful</td>\n",
       "      <td>154926</td>\n",
       "    </tr>\n",
       "    <tr>\n",
       "      <th>Bring Reading Rainbow Back for Every Child, Everywhere!</th>\n",
       "      <td>Web</td>\n",
       "      <td>successful</td>\n",
       "      <td>105857</td>\n",
       "    </tr>\n",
       "    <tr>\n",
       "      <th>The Veronica Mars Movie Project</th>\n",
       "      <td>Narrative Film</td>\n",
       "      <td>successful</td>\n",
       "      <td>91585</td>\n",
       "    </tr>\n",
       "    <tr>\n",
       "      <th>Double Fine Adventure</th>\n",
       "      <td>Video Games</td>\n",
       "      <td>successful</td>\n",
       "      <td>87142</td>\n",
       "    </tr>\n",
       "  </tbody>\n",
       "</table>\n",
       "</div>"
      ],
      "text/plain": [
       "                                                          category  \\\n",
       "name                                                                 \n",
       "Exploding Kittens                                   Tabletop Games   \n",
       "Fidget Cube: A Vinyl Desk Toy                       Product Design   \n",
       "Bring Reading Rainbow Back for Every Child, Eve...             Web   \n",
       "The Veronica Mars Movie Project                     Narrative Film   \n",
       "Double Fine Adventure                                  Video Games   \n",
       "\n",
       "                                                         state  backers  \n",
       "name                                                                     \n",
       "Exploding Kittens                                   successful   219382  \n",
       "Fidget Cube: A Vinyl Desk Toy                       successful   154926  \n",
       "Bring Reading Rainbow Back for Every Child, Eve...  successful   105857  \n",
       "The Veronica Mars Movie Project                     successful    91585  \n",
       "Double Fine Adventure                               successful    87142  "
      ]
     },
     "execution_count": 39,
     "metadata": {},
     "output_type": "execute_result"
    }
   ],
   "source": [
    "backers_index = data['backers'].astype(int).sort_values(ascending = False).index\n",
    "data.loc[backers_index][:5][['name', 'category', 'state', 'backers']].set_index('name')"
   ]
  },
  {
   "cell_type": "markdown",
   "metadata": {},
   "source": [
    "*The country with the most counts is the United States. Excepting the United States, the top countries are:*"
   ]
  },
  {
   "cell_type": "code",
   "execution_count": 40,
   "metadata": {},
   "outputs": [
    {
     "data": {
      "text/plain": [
       "<matplotlib.axes._subplots.AxesSubplot at 0x1a20d88ac8>"
      ]
     },
     "execution_count": 40,
     "metadata": {},
     "output_type": "execute_result"
    },
    {
     "data": {
      "image/png": "[encoded data removed]",
      "text/plain": [
       "<Figure size 432x288 with 1 Axes>"
      ]
     },
     "metadata": {
      "needs_background": "light"
     },
     "output_type": "display_data"
    }
   ],
   "source": [
    "data['country'].value_counts().drop('US').plot.bar()"
   ]
  },
  {
   "cell_type": "markdown",
   "metadata": {},
   "source": [
    "### Empty values"
   ]
  },
  {
   "cell_type": "code",
   "execution_count": 41,
   "metadata": {},
   "outputs": [
    {
     "data": {
      "text/plain": [
       "ID                     0\n",
       "name                   4\n",
       "category               0\n",
       "main_category          0\n",
       "currency               0\n",
       "deadline               0\n",
       "goal                   0\n",
       "launched               0\n",
       "pledged                0\n",
       "state                  0\n",
       "backers                0\n",
       "country                0\n",
       "usd pledged         3797\n",
       "usd_pledged_real       0\n",
       "usd_goal_real          0\n",
       "year_launched          0\n",
       "deadline_year          0\n",
       "goal_range             0\n",
       "dtype: int64"
      ]
     },
     "execution_count": 41,
     "metadata": {},
     "output_type": "execute_result"
    }
   ],
   "source": [
    "data.isna().sum()"
   ]
  },
  {
   "cell_type": "code",
   "execution_count": 42,
   "metadata": {},
   "outputs": [
    {
     "data": {
      "text/html": [
       "<div>\n",
       "<style scoped>\n",
       "    .dataframe tbody tr th:only-of-type {\n",
       "        vertical-align: middle;\n",
       "    }\n",
       "\n",
       "    .dataframe tbody tr th {\n",
       "        vertical-align: top;\n",
       "    }\n",
       "\n",
       "    .dataframe thead th {\n",
       "        text-align: right;\n",
       "    }\n",
       "</style>\n",
       "<table border=\"1\" class=\"dataframe\">\n",
       "  <thead>\n",
       "    <tr style=\"text-align: right;\">\n",
       "      <th></th>\n",
       "      <th>ID</th>\n",
       "      <th>name</th>\n",
       "      <th>category</th>\n",
       "      <th>main_category</th>\n",
       "      <th>currency</th>\n",
       "      <th>deadline</th>\n",
       "      <th>goal</th>\n",
       "      <th>launched</th>\n",
       "      <th>pledged</th>\n",
       "      <th>state</th>\n",
       "      <th>backers</th>\n",
       "      <th>country</th>\n",
       "      <th>usd pledged</th>\n",
       "      <th>usd_pledged_real</th>\n",
       "      <th>usd_goal_real</th>\n",
       "      <th>year_launched</th>\n",
       "      <th>deadline_year</th>\n",
       "      <th>goal_range</th>\n",
       "    </tr>\n",
       "  </thead>\n",
       "  <tbody>\n",
       "    <tr>\n",
       "      <th>166851</th>\n",
       "      <td>1848699072</td>\n",
       "      <td>NaN</td>\n",
       "      <td>Narrative Film</td>\n",
       "      <td>Film &amp; Video</td>\n",
       "      <td>USD</td>\n",
       "      <td>2012-02-29</td>\n",
       "      <td>200000.0</td>\n",
       "      <td>2012-01-01 12:35:00</td>\n",
       "      <td>100.0</td>\n",
       "      <td>failed</td>\n",
       "      <td>1</td>\n",
       "      <td>US</td>\n",
       "      <td>100.00</td>\n",
       "      <td>100.00</td>\n",
       "      <td>200000.00</td>\n",
       "      <td>2012</td>\n",
       "      <td>2012</td>\n",
       "      <td>100k to 500k</td>\n",
       "    </tr>\n",
       "    <tr>\n",
       "      <th>307234</th>\n",
       "      <td>634871725</td>\n",
       "      <td>NaN</td>\n",
       "      <td>Video Games</td>\n",
       "      <td>Games</td>\n",
       "      <td>GBP</td>\n",
       "      <td>2013-01-06</td>\n",
       "      <td>2000.0</td>\n",
       "      <td>2012-12-19 23:57:00</td>\n",
       "      <td>196.0</td>\n",
       "      <td>failed</td>\n",
       "      <td>12</td>\n",
       "      <td>GB</td>\n",
       "      <td>317.73</td>\n",
       "      <td>316.05</td>\n",
       "      <td>3224.97</td>\n",
       "      <td>2012</td>\n",
       "      <td>2013</td>\n",
       "      <td>1k to 5k</td>\n",
       "    </tr>\n",
       "    <tr>\n",
       "      <th>309991</th>\n",
       "      <td>648853978</td>\n",
       "      <td>NaN</td>\n",
       "      <td>Product Design</td>\n",
       "      <td>Design</td>\n",
       "      <td>USD</td>\n",
       "      <td>2016-07-18</td>\n",
       "      <td>2500.0</td>\n",
       "      <td>2016-06-18 05:01:00</td>\n",
       "      <td>0.0</td>\n",
       "      <td>suspended</td>\n",
       "      <td>0</td>\n",
       "      <td>US</td>\n",
       "      <td>0.00</td>\n",
       "      <td>0.00</td>\n",
       "      <td>2500.00</td>\n",
       "      <td>2016</td>\n",
       "      <td>2016</td>\n",
       "      <td>1k to 5k</td>\n",
       "    </tr>\n",
       "    <tr>\n",
       "      <th>338931</th>\n",
       "      <td>796533179</td>\n",
       "      <td>NaN</td>\n",
       "      <td>Painting</td>\n",
       "      <td>Art</td>\n",
       "      <td>USD</td>\n",
       "      <td>2011-12-05</td>\n",
       "      <td>35000.0</td>\n",
       "      <td>2011-11-06 23:55:00</td>\n",
       "      <td>220.0</td>\n",
       "      <td>failed</td>\n",
       "      <td>5</td>\n",
       "      <td>US</td>\n",
       "      <td>220.00</td>\n",
       "      <td>220.00</td>\n",
       "      <td>35000.00</td>\n",
       "      <td>2011</td>\n",
       "      <td>2011</td>\n",
       "      <td>10k to 50k</td>\n",
       "    </tr>\n",
       "  </tbody>\n",
       "</table>\n",
       "</div>"
      ],
      "text/plain": [
       "                ID name        category main_category currency   deadline  \\\n",
       "166851  1848699072  NaN  Narrative Film  Film & Video      USD 2012-02-29   \n",
       "307234   634871725  NaN     Video Games         Games      GBP 2013-01-06   \n",
       "309991   648853978  NaN  Product Design        Design      USD 2016-07-18   \n",
       "338931   796533179  NaN        Painting           Art      USD 2011-12-05   \n",
       "\n",
       "            goal            launched  pledged      state  backers country  \\\n",
       "166851  200000.0 2012-01-01 12:35:00    100.0     failed        1      US   \n",
       "307234    2000.0 2012-12-19 23:57:00    196.0     failed       12      GB   \n",
       "309991    2500.0 2016-06-18 05:01:00      0.0  suspended        0      US   \n",
       "338931   35000.0 2011-11-06 23:55:00    220.0     failed        5      US   \n",
       "\n",
       "        usd pledged  usd_pledged_real  usd_goal_real  year_launched  \\\n",
       "166851       100.00            100.00      200000.00           2012   \n",
       "307234       317.73            316.05        3224.97           2012   \n",
       "309991         0.00              0.00        2500.00           2016   \n",
       "338931       220.00            220.00       35000.00           2011   \n",
       "\n",
       "        deadline_year    goal_range  \n",
       "166851           2012  100k to 500k  \n",
       "307234           2013      1k to 5k  \n",
       "309991           2016      1k to 5k  \n",
       "338931           2011    10k to 50k  "
      ]
     },
     "execution_count": 42,
     "metadata": {},
     "output_type": "execute_result"
    }
   ],
   "source": [
    "data[data['name'].isna()]"
   ]
  },
  {
   "cell_type": "code",
   "execution_count": 43,
   "metadata": {},
   "outputs": [
    {
     "data": {
      "text/html": [
       "<div>\n",
       "<style scoped>\n",
       "    .dataframe tbody tr th:only-of-type {\n",
       "        vertical-align: middle;\n",
       "    }\n",
       "\n",
       "    .dataframe tbody tr th {\n",
       "        vertical-align: top;\n",
       "    }\n",
       "\n",
       "    .dataframe thead th {\n",
       "        text-align: right;\n",
       "    }\n",
       "</style>\n",
       "<table border=\"1\" class=\"dataframe\">\n",
       "  <thead>\n",
       "    <tr style=\"text-align: right;\">\n",
       "      <th></th>\n",
       "      <th>name</th>\n",
       "      <th>pledged</th>\n",
       "      <th>usd pledged</th>\n",
       "      <th>country</th>\n",
       "    </tr>\n",
       "  </thead>\n",
       "  <tbody>\n",
       "    <tr>\n",
       "      <th>2457</th>\n",
       "      <td>An Oratorio for our Time - Last Stop Cafe</td>\n",
       "      <td>5170.00</td>\n",
       "      <td>NaN</td>\n",
       "      <td>N,0\"</td>\n",
       "    </tr>\n",
       "    <tr>\n",
       "      <th>4892</th>\n",
       "      <td>Jackson Ruby: The Cassette Album</td>\n",
       "      <td>5296.00</td>\n",
       "      <td>NaN</td>\n",
       "      <td>N,0\"</td>\n",
       "    </tr>\n",
       "    <tr>\n",
       "      <th>5353</th>\n",
       "      <td>Help Parker Brown make his first solo album</td>\n",
       "      <td>5077.00</td>\n",
       "      <td>NaN</td>\n",
       "      <td>N,0\"</td>\n",
       "    </tr>\n",
       "    <tr>\n",
       "      <th>5597</th>\n",
       "      <td>Help BETHANY record a NEW single in Nash!</td>\n",
       "      <td>3502.13</td>\n",
       "      <td>NaN</td>\n",
       "      <td>N,0\"</td>\n",
       "    </tr>\n",
       "    <tr>\n",
       "      <th>8260</th>\n",
       "      <td>Serena Gabriel's first CD!!!!!!: Diving Deep</td>\n",
       "      <td>3787.00</td>\n",
       "      <td>NaN</td>\n",
       "      <td>N,0\"</td>\n",
       "    </tr>\n",
       "  </tbody>\n",
       "</table>\n",
       "</div>"
      ],
      "text/plain": [
       "                                              name  pledged  usd pledged  \\\n",
       "2457     An Oratorio for our Time - Last Stop Cafe  5170.00          NaN   \n",
       "4892              Jackson Ruby: The Cassette Album  5296.00          NaN   \n",
       "5353   Help Parker Brown make his first solo album  5077.00          NaN   \n",
       "5597     Help BETHANY record a NEW single in Nash!  3502.13          NaN   \n",
       "8260  Serena Gabriel's first CD!!!!!!: Diving Deep  3787.00          NaN   \n",
       "\n",
       "     country  \n",
       "2457    N,0\"  \n",
       "4892    N,0\"  \n",
       "5353    N,0\"  \n",
       "5597    N,0\"  \n",
       "8260    N,0\"  "
      ]
     },
     "execution_count": 43,
     "metadata": {},
     "output_type": "execute_result"
    }
   ],
   "source": [
    "data[(data['usd pledged'].isna()) & \n",
    "     (data['state'] == 'successful')][['name', 'pledged', 'usd pledged', 'country']].head()"
   ]
  },
  {
   "cell_type": "code",
   "execution_count": 44,
   "metadata": {},
   "outputs": [],
   "source": [
    "co_index = data[data['country'] == 'N,0\"'].index"
   ]
  },
  {
   "cell_type": "code",
   "execution_count": 45,
   "metadata": {},
   "outputs": [],
   "source": [
    "data.loc[co_index, 'country'] = ''"
   ]
  },
  {
   "cell_type": "code",
   "execution_count": 46,
   "metadata": {},
   "outputs": [
    {
     "data": {
      "text/plain": [
       "array(['GB', 'US', 'CA', 'AU', 'NO', 'IT', 'DE', 'IE', 'MX', 'ES', '',\n",
       "       'SE', 'FR', 'NL', 'NZ', 'CH', 'AT', 'DK', 'BE', 'HK', 'LU', 'SG',\n",
       "       'JP'], dtype=object)"
      ]
     },
     "execution_count": 46,
     "metadata": {},
     "output_type": "execute_result"
    }
   ],
   "source": [
    "data['country'].unique()"
   ]
  },
  {
   "cell_type": "markdown",
   "metadata": {},
   "source": [
    "### Correlation"
   ]
  },
  {
   "cell_type": "code",
   "execution_count": 47,
   "metadata": {},
   "outputs": [],
   "source": [
    "dropped_corr = data.corr().drop('ID').drop('ID', axis = 1)"
   ]
  },
  {
   "cell_type": "code",
   "execution_count": 48,
   "metadata": {},
   "outputs": [
    {
     "data": {
      "text/plain": [
       "<matplotlib.axes._subplots.AxesSubplot at 0x1a19edbb70>"
      ]
     },
     "execution_count": 48,
     "metadata": {},
     "output_type": "execute_result"
    },
    {
     "data": {
      "image/png": "[encoded data removed]",
      "text/plain": [
       "<Figure size 432x288 with 2 Axes>"
      ]
     },
     "metadata": {
      "needs_background": "light"
     },
     "output_type": "display_data"
    }
   ],
   "source": [
    "sns.heatmap(dropped_corr)"
   ]
  },
  {
   "cell_type": "code",
   "execution_count": 49,
   "metadata": {},
   "outputs": [
    {
     "data": {
      "text/plain": [
       "goal              usd_goal_real       0.942692\n",
       "pledged           backers             0.717079\n",
       "                  usd pledged         0.857370\n",
       "                  usd_pledged_real    0.952843\n",
       "backers           pledged             0.717079\n",
       "                  usd pledged         0.697426\n",
       "                  usd_pledged_real    0.752539\n",
       "usd pledged       pledged             0.857370\n",
       "                  backers             0.697426\n",
       "                  usd_pledged_real    0.907743\n",
       "usd_pledged_real  pledged             0.952843\n",
       "                  backers             0.752539\n",
       "                  usd pledged         0.907743\n",
       "usd_goal_real     goal                0.942692\n",
       "year_launched     deadline_year       0.990963\n",
       "deadline_year     year_launched       0.990963\n",
       "dtype: float64"
      ]
     },
     "execution_count": 49,
     "metadata": {},
     "output_type": "execute_result"
    }
   ],
   "source": [
    "dropped_corr.stack()[data.corr().stack(\n",
    "    ).between(0.5, 1, inclusive = False)]"
   ]
  },
  {
   "cell_type": "markdown",
   "metadata": {},
   "source": [
    "## Cleaning data, feature engineering"
   ]
  },
  {
   "cell_type": "code",
   "execution_count": 50,
   "metadata": {},
   "outputs": [],
   "source": [
    "#for name: punctuation, stopwords, stem, BOW\n",
    "\n",
    "#other: percentile buckets?"
   ]
  },
  {
   "cell_type": "markdown",
   "metadata": {},
   "source": [
    "**Extract workable columns**"
   ]
  },
  {
   "cell_type": "code",
   "execution_count": 51,
   "metadata": {},
   "outputs": [],
   "source": [
    "clean_data = data.copy()\n",
    "\n",
    "clean_data = clean_data.drop(['ID', \n",
    "                              'pledged', 'usd pledged', 'goal', \n",
    "                             'deadline_year', 'year_launched'], \n",
    "                             axis = 1)"
   ]
  },
  {
   "cell_type": "code",
   "execution_count": 52,
   "metadata": {},
   "outputs": [],
   "source": [
    "new_cols = ['name', 'sub_category', 'main_category', 'currency', \n",
    "            'deadline', 'launched', 'state', 'backers', 'country', \n",
    "            'usd_pledged', 'usd_goal', 'goal_range']\n",
    "\n",
    "clean_data.columns = new_cols"
   ]
  },
  {
   "cell_type": "code",
   "execution_count": 53,
   "metadata": {},
   "outputs": [],
   "source": [
    "clean_data.dropna(inplace = True)"
   ]
  },
  {
   "cell_type": "markdown",
   "metadata": {},
   "source": [
    "**Map state**"
   ]
  },
  {
   "cell_type": "code",
   "execution_count": 54,
   "metadata": {},
   "outputs": [],
   "source": [
    "clean_data = clean_data[(clean_data['state'] == 'successful') \n",
    "                        | (clean_data['state'] == 'failed')]"
   ]
  },
  {
   "cell_type": "code",
   "execution_count": 55,
   "metadata": {},
   "outputs": [],
   "source": [
    "def to_int(x):\n",
    "    if(x == 'successful'):\n",
    "        return 1\n",
    "    else:\n",
    "        return 0"
   ]
  },
  {
   "cell_type": "code",
   "execution_count": 56,
   "metadata": {},
   "outputs": [],
   "source": [
    "clean_data['state'] = clean_data['state'].apply(to_int)"
   ]
  },
  {
   "cell_type": "code",
   "execution_count": 57,
   "metadata": {},
   "outputs": [
    {
     "data": {
      "text/plain": [
       "backers        0.125790\n",
       "usd_pledged    0.108298\n",
       "usd_goal      -0.023735\n",
       "Name: state, dtype: float64"
      ]
     },
     "execution_count": 57,
     "metadata": {},
     "output_type": "execute_result"
    }
   ],
   "source": [
    "clean_data.corr()['state'].drop('state')"
   ]
  },
  {
   "cell_type": "code",
   "execution_count": 58,
   "metadata": {},
   "outputs": [
    {
     "data": {
      "text/html": [
       "<div>\n",
       "<style scoped>\n",
       "    .dataframe tbody tr th:only-of-type {\n",
       "        vertical-align: middle;\n",
       "    }\n",
       "\n",
       "    .dataframe tbody tr th {\n",
       "        vertical-align: top;\n",
       "    }\n",
       "\n",
       "    .dataframe thead th {\n",
       "        text-align: right;\n",
       "    }\n",
       "</style>\n",
       "<table border=\"1\" class=\"dataframe\">\n",
       "  <thead>\n",
       "    <tr style=\"text-align: right;\">\n",
       "      <th></th>\n",
       "      <th>name</th>\n",
       "      <th>sub_category</th>\n",
       "      <th>main_category</th>\n",
       "      <th>currency</th>\n",
       "      <th>deadline</th>\n",
       "      <th>launched</th>\n",
       "      <th>state</th>\n",
       "      <th>backers</th>\n",
       "      <th>country</th>\n",
       "      <th>usd_pledged</th>\n",
       "      <th>usd_goal</th>\n",
       "      <th>goal_range</th>\n",
       "    </tr>\n",
       "  </thead>\n",
       "  <tbody>\n",
       "    <tr>\n",
       "      <th>220466</th>\n",
       "      <td>I Am Jack's Apocalypse</td>\n",
       "      <td>Thrillers</td>\n",
       "      <td>Film &amp; Video</td>\n",
       "      <td>USD</td>\n",
       "      <td>2014-07-27</td>\n",
       "      <td>2014-06-29 01:40:00</td>\n",
       "      <td>0</td>\n",
       "      <td>32</td>\n",
       "      <td>US</td>\n",
       "      <td>4036.0</td>\n",
       "      <td>15000.0</td>\n",
       "      <td>10k to 50k</td>\n",
       "    </tr>\n",
       "  </tbody>\n",
       "</table>\n",
       "</div>"
      ],
      "text/plain": [
       "                          name sub_category main_category currency   deadline  \\\n",
       "220466  I Am Jack's Apocalypse    Thrillers  Film & Video      USD 2014-07-27   \n",
       "\n",
       "                  launched  state  backers country  usd_pledged  usd_goal  \\\n",
       "220466 2014-06-29 01:40:00      0       32      US       4036.0   15000.0   \n",
       "\n",
       "        goal_range  \n",
       "220466  10k to 50k  "
      ]
     },
     "execution_count": 58,
     "metadata": {},
     "output_type": "execute_result"
    }
   ],
   "source": [
    "clean_data.sample()"
   ]
  },
  {
   "cell_type": "markdown",
   "metadata": {},
   "source": [
    "### Features from project names"
   ]
  },
  {
   "cell_type": "markdown",
   "metadata": {},
   "source": [
    "**Length of names**"
   ]
  },
  {
   "cell_type": "code",
   "execution_count": 59,
   "metadata": {},
   "outputs": [],
   "source": [
    "clean_data['name_length'] = clean_data['name'].str.len()"
   ]
  },
  {
   "cell_type": "code",
   "execution_count": 60,
   "metadata": {},
   "outputs": [
    {
     "data": {
      "text/plain": [
       "mean    34.216889\n",
       "std     15.963648\n",
       "min      1.000000\n",
       "max     85.000000\n",
       "Name: name_length, dtype: float64"
      ]
     },
     "execution_count": 60,
     "metadata": {},
     "output_type": "execute_result"
    }
   ],
   "source": [
    "clean_data['name_length'].describe()[['mean', 'std', 'min', 'max']]"
   ]
  },
  {
   "cell_type": "code",
   "execution_count": 61,
   "metadata": {},
   "outputs": [
    {
     "data": {
      "text/plain": [
       "212923    H\n",
       "Name: name, dtype: object"
      ]
     },
     "execution_count": 61,
     "metadata": {},
     "output_type": "execute_result"
    }
   ],
   "source": [
    "clean_data[clean_data['name_length'] == 1].sample()['name']"
   ]
  },
  {
   "cell_type": "code",
   "execution_count": 62,
   "metadata": {},
   "outputs": [
    {
     "data": {
      "text/plain": [
       "250799    Desert Uncles: A (Rock)umentary about YV and Brother K's First Tour/Southeast Odyssey\n",
       "Name: name, dtype: object"
      ]
     },
     "execution_count": 62,
     "metadata": {},
     "output_type": "execute_result"
    }
   ],
   "source": [
    "pd.set_option('display.max_colwidth', -1)\n",
    "\n",
    "clean_data[clean_data['name_length'] == 85].sample()['name']"
   ]
  },
  {
   "cell_type": "code",
   "execution_count": 63,
   "metadata": {},
   "outputs": [],
   "source": [
    "# split words in the name?\n",
    "\n",
    "#kick_projects['name_words'] = \n",
    "#kick_projects.name.apply(lambda x: len(str(x).split(' ')))"
   ]
  },
  {
   "cell_type": "markdown",
   "metadata": {},
   "source": [
    "### Pledge per backer"
   ]
  },
  {
   "cell_type": "code",
   "execution_count": 64,
   "metadata": {},
   "outputs": [],
   "source": [
    "clean_data['pledge_per_backer'] = clean_data['usd_pledged'] / clean_data['backers']\n"
   ]
  },
  {
   "cell_type": "code",
   "execution_count": 65,
   "metadata": {},
   "outputs": [],
   "source": [
    "clean_data['pledge_per_backer'] = clean_data['pledge_per_backer'].fillna(0).astype(float).round(0)"
   ]
  },
  {
   "cell_type": "code",
   "execution_count": 66,
   "metadata": {},
   "outputs": [],
   "source": [
    "clean_data['pledge_per_backer'].replace(np.inf, 0, inplace = True)"
   ]
  },
  {
   "cell_type": "code",
   "execution_count": 67,
   "metadata": {},
   "outputs": [
    {
     "data": {
      "image/png": "[encoded data removed]",
      "text/plain": [
       "<Figure size 432x288 with 1 Axes>"
      ]
     },
     "metadata": {
      "needs_background": "light"
     },
     "output_type": "display_data"
    }
   ],
   "source": [
    "sns.stripplot(y = 'pledge_per_backer', x = 'state', data = clean_data)\n",
    "plt.show()"
   ]
  },
  {
   "cell_type": "code",
   "execution_count": 68,
   "metadata": {},
   "outputs": [
    {
     "data": {
      "text/plain": [
       "Index(['name', 'sub_category', 'main_category', 'currency', 'deadline',\n",
       "       'launched', 'state', 'backers', 'country', 'usd_pledged', 'usd_goal',\n",
       "       'goal_range', 'name_length', 'pledge_per_backer'],\n",
       "      dtype='object')"
      ]
     },
     "execution_count": 68,
     "metadata": {},
     "output_type": "execute_result"
    }
   ],
   "source": [
    "clean_data.columns"
   ]
  },
  {
   "cell_type": "markdown",
   "metadata": {},
   "source": [
    "### One hot encode categorical columns"
   ]
  },
  {
   "cell_type": "code",
   "execution_count": 69,
   "metadata": {},
   "outputs": [],
   "source": [
    "clean_data = pd.get_dummies(clean_data, columns = ['main_category', 'sub_category'])"
   ]
  },
  {
   "cell_type": "code",
   "execution_count": 70,
   "metadata": {},
   "outputs": [],
   "source": [
    "clean_data = pd.get_dummies(clean_data, columns = ['currency', 'country'])"
   ]
  },
  {
   "cell_type": "code",
   "execution_count": 71,
   "metadata": {},
   "outputs": [
    {
     "data": {
      "text/plain": [
       "['name',\n",
       " 'deadline',\n",
       " 'launched',\n",
       " 'state',\n",
       " 'backers',\n",
       " 'usd_pledged',\n",
       " 'usd_goal',\n",
       " 'goal_range',\n",
       " 'name_length',\n",
       " 'pledge_per_backer',\n",
       " 'main_category_Art',\n",
       " 'main_category_Comics',\n",
       " 'main_category_Crafts',\n",
       " 'main_category_Dance',\n",
       " 'main_category_Design',\n",
       " 'main_category_Fashion',\n",
       " 'main_category_Film & Video',\n",
       " 'main_category_Food',\n",
       " 'main_category_Games',\n",
       " 'main_category_Journalism',\n",
       " 'main_category_Music',\n",
       " 'main_category_Photography',\n",
       " 'main_category_Publishing',\n",
       " 'main_category_Technology',\n",
       " 'main_category_Theater',\n",
       " 'sub_category_3D Printing',\n",
       " 'sub_category_Academic',\n",
       " 'sub_category_Accessories',\n",
       " 'sub_category_Action',\n",
       " 'sub_category_Animals',\n",
       " 'sub_category_Animation',\n",
       " 'sub_category_Anthologies',\n",
       " 'sub_category_Apparel',\n",
       " 'sub_category_Apps',\n",
       " 'sub_category_Architecture',\n",
       " 'sub_category_Art',\n",
       " 'sub_category_Art Books',\n",
       " 'sub_category_Audio',\n",
       " 'sub_category_Bacon',\n",
       " 'sub_category_Blues',\n",
       " 'sub_category_Calendars',\n",
       " 'sub_category_Camera Equipment',\n",
       " 'sub_category_Candles',\n",
       " 'sub_category_Ceramics',\n",
       " \"sub_category_Children's Books\",\n",
       " 'sub_category_Childrenswear',\n",
       " 'sub_category_Chiptune',\n",
       " 'sub_category_Civic Design',\n",
       " 'sub_category_Classical Music',\n",
       " 'sub_category_Comedy',\n",
       " 'sub_category_Comic Books',\n",
       " 'sub_category_Comics',\n",
       " 'sub_category_Community Gardens',\n",
       " 'sub_category_Conceptual Art',\n",
       " 'sub_category_Cookbooks',\n",
       " 'sub_category_Country & Folk',\n",
       " 'sub_category_Couture',\n",
       " 'sub_category_Crafts',\n",
       " 'sub_category_Crochet',\n",
       " 'sub_category_DIY',\n",
       " 'sub_category_DIY Electronics',\n",
       " 'sub_category_Dance',\n",
       " 'sub_category_Design',\n",
       " 'sub_category_Digital Art',\n",
       " 'sub_category_Documentary',\n",
       " 'sub_category_Drama',\n",
       " 'sub_category_Drinks',\n",
       " 'sub_category_Electronic Music',\n",
       " 'sub_category_Embroidery',\n",
       " 'sub_category_Events',\n",
       " 'sub_category_Experimental',\n",
       " 'sub_category_Fabrication Tools',\n",
       " 'sub_category_Faith',\n",
       " 'sub_category_Family',\n",
       " 'sub_category_Fantasy',\n",
       " \"sub_category_Farmer's Markets\",\n",
       " 'sub_category_Farms',\n",
       " 'sub_category_Fashion',\n",
       " 'sub_category_Festivals',\n",
       " 'sub_category_Fiction',\n",
       " 'sub_category_Film & Video',\n",
       " 'sub_category_Fine Art',\n",
       " 'sub_category_Flight',\n",
       " 'sub_category_Food',\n",
       " 'sub_category_Food Trucks',\n",
       " 'sub_category_Footwear',\n",
       " 'sub_category_Gadgets',\n",
       " 'sub_category_Games',\n",
       " 'sub_category_Gaming Hardware',\n",
       " 'sub_category_Glass',\n",
       " 'sub_category_Graphic Design',\n",
       " 'sub_category_Graphic Novels',\n",
       " 'sub_category_Hardware',\n",
       " 'sub_category_Hip-Hop',\n",
       " 'sub_category_Horror',\n",
       " 'sub_category_Illustration',\n",
       " 'sub_category_Immersive',\n",
       " 'sub_category_Indie Rock',\n",
       " 'sub_category_Installations',\n",
       " 'sub_category_Interactive Design',\n",
       " 'sub_category_Jazz',\n",
       " 'sub_category_Jewelry',\n",
       " 'sub_category_Journalism',\n",
       " 'sub_category_Kids',\n",
       " 'sub_category_Knitting',\n",
       " 'sub_category_Latin',\n",
       " 'sub_category_Letterpress',\n",
       " 'sub_category_Literary Journals',\n",
       " 'sub_category_Literary Spaces',\n",
       " 'sub_category_Live Games',\n",
       " 'sub_category_Makerspaces',\n",
       " 'sub_category_Metal',\n",
       " 'sub_category_Mixed Media',\n",
       " 'sub_category_Mobile Games',\n",
       " 'sub_category_Movie Theaters',\n",
       " 'sub_category_Music',\n",
       " 'sub_category_Music Videos',\n",
       " 'sub_category_Musical',\n",
       " 'sub_category_Narrative Film',\n",
       " 'sub_category_Nature',\n",
       " 'sub_category_Nonfiction',\n",
       " 'sub_category_Painting',\n",
       " 'sub_category_People',\n",
       " 'sub_category_Performance Art',\n",
       " 'sub_category_Performances',\n",
       " 'sub_category_Periodicals',\n",
       " 'sub_category_Pet Fashion',\n",
       " 'sub_category_Photo',\n",
       " 'sub_category_Photobooks',\n",
       " 'sub_category_Photography',\n",
       " 'sub_category_Places',\n",
       " 'sub_category_Playing Cards',\n",
       " 'sub_category_Plays',\n",
       " 'sub_category_Poetry',\n",
       " 'sub_category_Pop',\n",
       " 'sub_category_Pottery',\n",
       " 'sub_category_Print',\n",
       " 'sub_category_Printing',\n",
       " 'sub_category_Product Design',\n",
       " 'sub_category_Public Art',\n",
       " 'sub_category_Publishing',\n",
       " 'sub_category_Punk',\n",
       " 'sub_category_Puzzles',\n",
       " 'sub_category_Quilts',\n",
       " 'sub_category_R&B',\n",
       " 'sub_category_Radio & Podcasts',\n",
       " 'sub_category_Ready-to-wear',\n",
       " 'sub_category_Residencies',\n",
       " 'sub_category_Restaurants',\n",
       " 'sub_category_Robots',\n",
       " 'sub_category_Rock',\n",
       " 'sub_category_Romance',\n",
       " 'sub_category_Science Fiction',\n",
       " 'sub_category_Sculpture',\n",
       " 'sub_category_Shorts',\n",
       " 'sub_category_Small Batch',\n",
       " 'sub_category_Software',\n",
       " 'sub_category_Sound',\n",
       " 'sub_category_Space Exploration',\n",
       " 'sub_category_Spaces',\n",
       " 'sub_category_Stationery',\n",
       " 'sub_category_Tabletop Games',\n",
       " 'sub_category_Taxidermy',\n",
       " 'sub_category_Technology',\n",
       " 'sub_category_Television',\n",
       " 'sub_category_Textiles',\n",
       " 'sub_category_Theater',\n",
       " 'sub_category_Thrillers',\n",
       " 'sub_category_Translations',\n",
       " 'sub_category_Typography',\n",
       " 'sub_category_Vegan',\n",
       " 'sub_category_Video',\n",
       " 'sub_category_Video Art',\n",
       " 'sub_category_Video Games',\n",
       " 'sub_category_Wearables',\n",
       " 'sub_category_Weaving',\n",
       " 'sub_category_Web',\n",
       " 'sub_category_Webcomics',\n",
       " 'sub_category_Webseries',\n",
       " 'sub_category_Woodworking',\n",
       " 'sub_category_Workshops',\n",
       " 'sub_category_World Music',\n",
       " 'sub_category_Young Adult',\n",
       " 'sub_category_Zines',\n",
       " 'currency_AUD',\n",
       " 'currency_CAD',\n",
       " 'currency_CHF',\n",
       " 'currency_DKK',\n",
       " 'currency_EUR',\n",
       " 'currency_GBP',\n",
       " 'currency_HKD',\n",
       " 'currency_JPY',\n",
       " 'currency_MXN',\n",
       " 'currency_NOK',\n",
       " 'currency_NZD',\n",
       " 'currency_SEK',\n",
       " 'currency_SGD',\n",
       " 'currency_USD',\n",
       " 'country_',\n",
       " 'country_AT',\n",
       " 'country_AU',\n",
       " 'country_BE',\n",
       " 'country_CA',\n",
       " 'country_CH',\n",
       " 'country_DE',\n",
       " 'country_DK',\n",
       " 'country_ES',\n",
       " 'country_FR',\n",
       " 'country_GB',\n",
       " 'country_HK',\n",
       " 'country_IE',\n",
       " 'country_IT',\n",
       " 'country_JP',\n",
       " 'country_LU',\n",
       " 'country_MX',\n",
       " 'country_NL',\n",
       " 'country_NO',\n",
       " 'country_NZ',\n",
       " 'country_SE',\n",
       " 'country_SG',\n",
       " 'country_US']"
      ]
     },
     "execution_count": 71,
     "metadata": {},
     "output_type": "execute_result"
    }
   ],
   "source": [
    "list(clean_data.columns)"
   ]
  },
  {
   "cell_type": "code",
   "execution_count": 72,
   "metadata": {},
   "outputs": [
    {
     "name": "stdout",
     "output_type": "stream",
     "text": [
      "<class 'pandas.core.frame.DataFrame'>\n",
      "Int64Index: 331672 entries, 0 to 378660\n",
      "Columns: 221 entries, name to country_US\n",
      "dtypes: datetime64[ns](2), float64(3), int64(3), object(2), uint8(211)\n",
      "memory usage: 104.6+ MB\n"
     ]
    }
   ],
   "source": [
    "clean_data.info()"
   ]
  },
  {
   "cell_type": "code",
   "execution_count": 73,
   "metadata": {},
   "outputs": [],
   "source": [
    "#decided to take out goal_range as well\n",
    "\n",
    "clean_data.drop('goal_range', axis = 1, inplace = True)"
   ]
  },
  {
   "cell_type": "code",
   "execution_count": 74,
   "metadata": {},
   "outputs": [
    {
     "data": {
      "text/html": [
       "<div>\n",
       "<style scoped>\n",
       "    .dataframe tbody tr th:only-of-type {\n",
       "        vertical-align: middle;\n",
       "    }\n",
       "\n",
       "    .dataframe tbody tr th {\n",
       "        vertical-align: top;\n",
       "    }\n",
       "\n",
       "    .dataframe thead th {\n",
       "        text-align: right;\n",
       "    }\n",
       "</style>\n",
       "<table border=\"1\" class=\"dataframe\">\n",
       "  <thead>\n",
       "    <tr style=\"text-align: right;\">\n",
       "      <th></th>\n",
       "      <th>name</th>\n",
       "      <th>deadline</th>\n",
       "      <th>launched</th>\n",
       "      <th>state</th>\n",
       "      <th>backers</th>\n",
       "      <th>usd_pledged</th>\n",
       "      <th>usd_goal</th>\n",
       "      <th>name_length</th>\n",
       "      <th>pledge_per_backer</th>\n",
       "    </tr>\n",
       "  </thead>\n",
       "  <tbody>\n",
       "    <tr>\n",
       "      <th>0</th>\n",
       "      <td>The Songs of Adelaide &amp; Abullah</td>\n",
       "      <td>2015-10-09</td>\n",
       "      <td>2015-08-11 12:12:00</td>\n",
       "      <td>0</td>\n",
       "      <td>0</td>\n",
       "      <td>0.0</td>\n",
       "      <td>1533.95</td>\n",
       "      <td>31</td>\n",
       "      <td>0.0</td>\n",
       "    </tr>\n",
       "    <tr>\n",
       "      <th>1</th>\n",
       "      <td>Greeting From Earth: ZGAC Arts Capsule For ET</td>\n",
       "      <td>2017-11-01</td>\n",
       "      <td>2017-09-02 04:43:00</td>\n",
       "      <td>0</td>\n",
       "      <td>15</td>\n",
       "      <td>2421.0</td>\n",
       "      <td>30000.00</td>\n",
       "      <td>45</td>\n",
       "      <td>161.0</td>\n",
       "    </tr>\n",
       "  </tbody>\n",
       "</table>\n",
       "</div>"
      ],
      "text/plain": [
       "                                            name   deadline  \\\n",
       "0  The Songs of Adelaide & Abullah               2015-10-09   \n",
       "1  Greeting From Earth: ZGAC Arts Capsule For ET 2017-11-01   \n",
       "\n",
       "             launched  state  backers  usd_pledged  usd_goal  name_length  \\\n",
       "0 2015-08-11 12:12:00  0      0        0.0          1533.95   31            \n",
       "1 2017-09-02 04:43:00  0      15       2421.0       30000.00  45            \n",
       "\n",
       "   pledge_per_backer  \n",
       "0  0.0                \n",
       "1  161.0              "
      ]
     },
     "execution_count": 74,
     "metadata": {},
     "output_type": "execute_result"
    }
   ],
   "source": [
    "clean_data.iloc[:2,:9]"
   ]
  },
  {
   "cell_type": "markdown",
   "metadata": {},
   "source": [
    "### Extract data from datetime columns"
   ]
  },
  {
   "cell_type": "markdown",
   "metadata": {},
   "source": [
    "**Deadline**"
   ]
  },
  {
   "cell_type": "code",
   "execution_count": 75,
   "metadata": {},
   "outputs": [],
   "source": [
    "clean_data['deadline_year'] = clean_data['deadline'].dt.year\n",
    "clean_data['deadline_month'] = clean_data['deadline'].dt.month\n",
    "clean_data['deadline_day'] = clean_data['deadline'].dt.day\n",
    "clean_data['deadline_day_of_week'] = clean_data['deadline'].dt.dayofweek"
   ]
  },
  {
   "cell_type": "code",
   "execution_count": 76,
   "metadata": {},
   "outputs": [],
   "source": [
    "clean_data.drop('deadline', axis = 1, inplace = True)"
   ]
  },
  {
   "cell_type": "markdown",
   "metadata": {},
   "source": [
    "**Launched**"
   ]
  },
  {
   "cell_type": "code",
   "execution_count": 77,
   "metadata": {},
   "outputs": [],
   "source": [
    "clean_data['launched_year'] = clean_data['launched'].dt.year\n",
    "clean_data['launched_month'] = clean_data['launched'].dt.month\n",
    "clean_data['launched_day'] = clean_data['launched'].dt.day\n",
    "clean_data['launched_day_of_week'] = clean_data['launched'].dt.dayofweek\n",
    "clean_data['launched_hour'] = clean_data['launched'].dt.hour"
   ]
  },
  {
   "cell_type": "code",
   "execution_count": 78,
   "metadata": {},
   "outputs": [],
   "source": [
    "clean_data.drop('launched', axis = 1, inplace = True)"
   ]
  },
  {
   "cell_type": "markdown",
   "metadata": {},
   "source": [
    "**Normalize data attributes**"
   ]
  },
  {
   "cell_type": "code",
   "execution_count": 79,
   "metadata": {},
   "outputs": [],
   "source": [
    "clean_data.drop('name', axis = 1, inplace = True)"
   ]
  },
  {
   "cell_type": "code",
   "execution_count": 80,
   "metadata": {},
   "outputs": [],
   "source": [
    "clean_data = clean_data.fillna(0)\n",
    "clean_data.replace(np.inf, 0, inplace = True)\n",
    "scaled_clean_data = clean_data.copy()"
   ]
  },
  {
   "cell_type": "code",
   "execution_count": 81,
   "metadata": {},
   "outputs": [],
   "source": [
    "scaler = StandardScaler()"
   ]
  },
  {
   "cell_type": "code",
   "execution_count": 82,
   "metadata": {},
   "outputs": [
    {
     "data": {
      "text/html": [
       "<div>\n",
       "<style scoped>\n",
       "    .dataframe tbody tr th:only-of-type {\n",
       "        vertical-align: middle;\n",
       "    }\n",
       "\n",
       "    .dataframe tbody tr th {\n",
       "        vertical-align: top;\n",
       "    }\n",
       "\n",
       "    .dataframe thead th {\n",
       "        text-align: right;\n",
       "    }\n",
       "</style>\n",
       "<table border=\"1\" class=\"dataframe\">\n",
       "  <thead>\n",
       "    <tr style=\"text-align: right;\">\n",
       "      <th></th>\n",
       "      <th>state</th>\n",
       "      <th>backers</th>\n",
       "      <th>usd_pledged</th>\n",
       "      <th>usd_goal</th>\n",
       "      <th>name_length</th>\n",
       "      <th>pledge_per_backer</th>\n",
       "      <th>main_category_Art</th>\n",
       "      <th>main_category_Comics</th>\n",
       "      <th>main_category_Crafts</th>\n",
       "      <th>main_category_Dance</th>\n",
       "      <th>...</th>\n",
       "      <th>country_US</th>\n",
       "      <th>deadline_year</th>\n",
       "      <th>deadline_month</th>\n",
       "      <th>deadline_day</th>\n",
       "      <th>deadline_day_of_week</th>\n",
       "      <th>launched_year</th>\n",
       "      <th>launched_month</th>\n",
       "      <th>launched_day</th>\n",
       "      <th>launched_day_of_week</th>\n",
       "      <th>launched_hour</th>\n",
       "    </tr>\n",
       "  </thead>\n",
       "  <tbody>\n",
       "    <tr>\n",
       "      <th>0</th>\n",
       "      <td>0</td>\n",
       "      <td>-0.120550</td>\n",
       "      <td>-0.102794</td>\n",
       "      <td>-0.036049</td>\n",
       "      <td>-0.201514</td>\n",
       "      <td>-0.502156</td>\n",
       "      <td>0</td>\n",
       "      <td>0</td>\n",
       "      <td>0</td>\n",
       "      <td>0</td>\n",
       "      <td>...</td>\n",
       "      <td>0</td>\n",
       "      <td>2015</td>\n",
       "      <td>10</td>\n",
       "      <td>9</td>\n",
       "      <td>4</td>\n",
       "      <td>2015</td>\n",
       "      <td>8</td>\n",
       "      <td>11</td>\n",
       "      <td>1</td>\n",
       "      <td>12</td>\n",
       "    </tr>\n",
       "    <tr>\n",
       "      <th>1</th>\n",
       "      <td>0</td>\n",
       "      <td>-0.105013</td>\n",
       "      <td>-0.077766</td>\n",
       "      <td>-0.010379</td>\n",
       "      <td>0.675480</td>\n",
       "      <td>0.721165</td>\n",
       "      <td>0</td>\n",
       "      <td>0</td>\n",
       "      <td>0</td>\n",
       "      <td>0</td>\n",
       "      <td>...</td>\n",
       "      <td>1</td>\n",
       "      <td>2017</td>\n",
       "      <td>11</td>\n",
       "      <td>1</td>\n",
       "      <td>2</td>\n",
       "      <td>2017</td>\n",
       "      <td>9</td>\n",
       "      <td>2</td>\n",
       "      <td>5</td>\n",
       "      <td>4</td>\n",
       "    </tr>\n",
       "    <tr>\n",
       "      <th>2</th>\n",
       "      <td>0</td>\n",
       "      <td>-0.117443</td>\n",
       "      <td>-0.100519</td>\n",
       "      <td>0.003147</td>\n",
       "      <td>-1.266435</td>\n",
       "      <td>0.052518</td>\n",
       "      <td>0</td>\n",
       "      <td>0</td>\n",
       "      <td>0</td>\n",
       "      <td>0</td>\n",
       "      <td>...</td>\n",
       "      <td>1</td>\n",
       "      <td>2013</td>\n",
       "      <td>2</td>\n",
       "      <td>26</td>\n",
       "      <td>1</td>\n",
       "      <td>2013</td>\n",
       "      <td>1</td>\n",
       "      <td>12</td>\n",
       "      <td>5</td>\n",
       "      <td>0</td>\n",
       "    </tr>\n",
       "    <tr>\n",
       "      <th>3</th>\n",
       "      <td>0</td>\n",
       "      <td>-0.119514</td>\n",
       "      <td>-0.102783</td>\n",
       "      <td>-0.032923</td>\n",
       "      <td>0.926050</td>\n",
       "      <td>-0.494558</td>\n",
       "      <td>0</td>\n",
       "      <td>0</td>\n",
       "      <td>0</td>\n",
       "      <td>0</td>\n",
       "      <td>...</td>\n",
       "      <td>1</td>\n",
       "      <td>2012</td>\n",
       "      <td>4</td>\n",
       "      <td>16</td>\n",
       "      <td>0</td>\n",
       "      <td>2012</td>\n",
       "      <td>3</td>\n",
       "      <td>17</td>\n",
       "      <td>5</td>\n",
       "      <td>3</td>\n",
       "    </tr>\n",
       "    <tr>\n",
       "      <th>5</th>\n",
       "      <td>1</td>\n",
       "      <td>0.111471</td>\n",
       "      <td>0.438644</td>\n",
       "      <td>0.007656</td>\n",
       "      <td>-0.890580</td>\n",
       "      <td>1.275838</td>\n",
       "      <td>0</td>\n",
       "      <td>0</td>\n",
       "      <td>0</td>\n",
       "      <td>0</td>\n",
       "      <td>...</td>\n",
       "      <td>1</td>\n",
       "      <td>2016</td>\n",
       "      <td>4</td>\n",
       "      <td>1</td>\n",
       "      <td>4</td>\n",
       "      <td>2016</td>\n",
       "      <td>2</td>\n",
       "      <td>26</td>\n",
       "      <td>4</td>\n",
       "      <td>13</td>\n",
       "    </tr>\n",
       "  </tbody>\n",
       "</table>\n",
       "<p>5 rows × 226 columns</p>\n",
       "</div>"
      ],
      "text/plain": [
       "   state   backers  usd_pledged  usd_goal  name_length  pledge_per_backer  \\\n",
       "0  0     -0.120550 -0.102794    -0.036049 -0.201514    -0.502156            \n",
       "1  0     -0.105013 -0.077766    -0.010379  0.675480     0.721165            \n",
       "2  0     -0.117443 -0.100519     0.003147 -1.266435     0.052518            \n",
       "3  0     -0.119514 -0.102783    -0.032923  0.926050    -0.494558            \n",
       "5  1      0.111471  0.438644     0.007656 -0.890580     1.275838            \n",
       "\n",
       "   main_category_Art  main_category_Comics  main_category_Crafts  \\\n",
       "0  0                  0                     0                      \n",
       "1  0                  0                     0                      \n",
       "2  0                  0                     0                      \n",
       "3  0                  0                     0                      \n",
       "5  0                  0                     0                      \n",
       "\n",
       "   main_category_Dance      ...        country_US  deadline_year  \\\n",
       "0  0                        ...        0           2015            \n",
       "1  0                        ...        1           2017            \n",
       "2  0                        ...        1           2013            \n",
       "3  0                        ...        1           2012            \n",
       "5  0                        ...        1           2016            \n",
       "\n",
       "   deadline_month  deadline_day  deadline_day_of_week  launched_year  \\\n",
       "0  10              9             4                     2015            \n",
       "1  11              1             2                     2017            \n",
       "2  2               26            1                     2013            \n",
       "3  4               16            0                     2012            \n",
       "5  4               1             4                     2016            \n",
       "\n",
       "   launched_month  launched_day  launched_day_of_week  launched_hour  \n",
       "0  8               11            1                     12             \n",
       "1  9               2             5                     4              \n",
       "2  1               12            5                     0              \n",
       "3  3               17            5                     3              \n",
       "5  2               26            4                     13             \n",
       "\n",
       "[5 rows x 226 columns]"
      ]
     },
     "execution_count": 82,
     "metadata": {},
     "output_type": "execute_result"
    }
   ],
   "source": [
    "scaled_clean_data.iloc[:, 1:6] = scaler.fit_transform(scaled_clean_data.iloc[:, 1:6])\n",
    "scaled_clean_data.head()"
   ]
  },
  {
   "cell_type": "markdown",
   "metadata": {},
   "source": [
    "## Modeling"
   ]
  },
  {
   "cell_type": "markdown",
   "metadata": {},
   "source": [
    "**Using Gradient Boosting, Random Forest, and Logistic Regression**"
   ]
  },
  {
   "cell_type": "markdown",
   "metadata": {},
   "source": [
    "**Data Prep**"
   ]
  },
  {
   "cell_type": "code",
   "execution_count": 83,
   "metadata": {},
   "outputs": [
    {
     "data": {
      "text/plain": [
       "0    197716\n",
       "1    133956\n",
       "Name: state, dtype: int64"
      ]
     },
     "execution_count": 83,
     "metadata": {},
     "output_type": "execute_result"
    }
   ],
   "source": [
    "y = scaled_clean_data['state']\n",
    "y.value_counts()"
   ]
  },
  {
   "cell_type": "code",
   "execution_count": 84,
   "metadata": {},
   "outputs": [],
   "source": [
    "x = scaled_clean_data.drop('state', axis = 1)"
   ]
  },
  {
   "cell_type": "code",
   "execution_count": 85,
   "metadata": {},
   "outputs": [],
   "source": [
    "X_train, X_test, y_train, y_test = train_test_split(\n",
    "x, y, random_state = 10)"
   ]
  },
  {
   "cell_type": "code",
   "execution_count": 86,
   "metadata": {},
   "outputs": [
    {
     "name": "stdout",
     "output_type": "stream",
     "text": [
      "(248754, 225) (248754,)\n"
     ]
    }
   ],
   "source": [
    "print(X_train.shape, y_train.shape)"
   ]
  },
  {
   "cell_type": "code",
   "execution_count": 87,
   "metadata": {},
   "outputs": [
    {
     "name": "stdout",
     "output_type": "stream",
     "text": [
      "(82918, 225) (82918,)\n"
     ]
    }
   ],
   "source": [
    "print(X_test.shape, y_test.shape)"
   ]
  },
  {
   "cell_type": "markdown",
   "metadata": {},
   "source": [
    "**Gradient Boosting Classifier**"
   ]
  },
  {
   "cell_type": "markdown",
   "metadata": {},
   "source": [
    "*Training model*"
   ]
  },
  {
   "cell_type": "code",
   "execution_count": 88,
   "metadata": {},
   "outputs": [
    {
     "data": {
      "text/plain": [
       "GradientBoostingClassifier(criterion='friedman_mse', init=None,\n",
       "              learning_rate=0.1, loss='deviance', max_depth=3,\n",
       "              max_features=None, max_leaf_nodes=None,\n",
       "              min_impurity_decrease=0.0, min_impurity_split=None,\n",
       "              min_samples_leaf=1, min_samples_split=2,\n",
       "              min_weight_fraction_leaf=0.0, n_estimators=100,\n",
       "              presort='auto', random_state=None, subsample=1.0, verbose=0,\n",
       "              warm_start=False)"
      ]
     },
     "execution_count": 88,
     "metadata": {},
     "output_type": "execute_result"
    }
   ],
   "source": [
    "gb = GradientBoostingClassifier()\n",
    "gb.fit(X_train, y_train)"
   ]
  },
  {
   "cell_type": "markdown",
   "metadata": {},
   "source": [
    "*Evaluate model*"
   ]
  },
  {
   "cell_type": "code",
   "execution_count": 89,
   "metadata": {},
   "outputs": [
    {
     "name": "stdout",
     "output_type": "stream",
     "text": [
      "Classification report: \n",
      "\n",
      "             precision    recall  f1-score   support\n",
      "\n",
      "          0       1.00      0.98      0.99     49510\n",
      "          1       0.98      1.00      0.99     33408\n",
      "\n",
      "avg / total       0.99      0.99      0.99     82918\n",
      "\n"
     ]
    }
   ],
   "source": [
    "print(\"Classification report: \\n\" )\n",
    "\n",
    "predictions  = gb.predict(X_test)\n",
    "print(classification_report(y_test, predictions))"
   ]
  },
  {
   "cell_type": "code",
   "execution_count": 90,
   "metadata": {},
   "outputs": [
    {
     "name": "stdout",
     "output_type": "stream",
     "text": [
      "Confusion matrix: \n",
      "\n",
      "[[48758   752]\n",
      " [    5 33403]]\n"
     ]
    }
   ],
   "source": [
    "print(\"Confusion matrix: \\n\" )\n",
    "\n",
    "print(confusion_matrix(y_test, predictions))"
   ]
  },
  {
   "cell_type": "code",
   "execution_count": 91,
   "metadata": {},
   "outputs": [
    {
     "name": "stdout",
     "output_type": "stream",
     "text": [
      "0.9908704985648472\n"
     ]
    }
   ],
   "source": [
    "gb_accuracy = accuracy_score(y_test, predictions)\n",
    "print(gb_accuracy)"
   ]
  },
  {
   "cell_type": "code",
   "execution_count": 92,
   "metadata": {},
   "outputs": [
    {
     "data": {
      "text/html": [
       "<div>\n",
       "<style scoped>\n",
       "    .dataframe tbody tr th:only-of-type {\n",
       "        vertical-align: middle;\n",
       "    }\n",
       "\n",
       "    .dataframe tbody tr th {\n",
       "        vertical-align: top;\n",
       "    }\n",
       "\n",
       "    .dataframe thead th {\n",
       "        text-align: right;\n",
       "    }\n",
       "</style>\n",
       "<table border=\"1\" class=\"dataframe\">\n",
       "  <thead>\n",
       "    <tr style=\"text-align: right;\">\n",
       "      <th></th>\n",
       "      <th>GB Importance</th>\n",
       "    </tr>\n",
       "  </thead>\n",
       "  <tbody>\n",
       "    <tr>\n",
       "      <th>usd_pledged</th>\n",
       "      <td>0.475087</td>\n",
       "    </tr>\n",
       "    <tr>\n",
       "      <th>usd_goal</th>\n",
       "      <td>0.357460</td>\n",
       "    </tr>\n",
       "    <tr>\n",
       "      <th>backers</th>\n",
       "      <td>0.129932</td>\n",
       "    </tr>\n",
       "    <tr>\n",
       "      <th>pledge_per_backer</th>\n",
       "      <td>0.013084</td>\n",
       "    </tr>\n",
       "    <tr>\n",
       "      <th>main_category_Film &amp; Video</th>\n",
       "      <td>0.005627</td>\n",
       "    </tr>\n",
       "  </tbody>\n",
       "</table>\n",
       "</div>"
      ],
      "text/plain": [
       "                            GB Importance\n",
       "usd_pledged                 0.475087     \n",
       "usd_goal                    0.357460     \n",
       "backers                     0.129932     \n",
       "pledge_per_backer           0.013084     \n",
       "main_category_Film & Video  0.005627     "
      ]
     },
     "execution_count": 92,
     "metadata": {},
     "output_type": "execute_result"
    }
   ],
   "source": [
    "gb_importances = pd.DataFrame(gb.feature_importances_, \n",
    "                              index = X_train.columns, columns = \n",
    "                              ['GB Importance'])\n",
    "\n",
    "gb_importances.sort_values(by = 'GB Importance', \n",
    "                           inplace = True, ascending = False)\n",
    "gb_importances.head()"
   ]
  },
  {
   "cell_type": "code",
   "execution_count": 93,
   "metadata": {},
   "outputs": [
    {
     "data": {
      "text/plain": [
       "<bound method BaseEstimator.get_params of GradientBoostingClassifier(criterion='friedman_mse', init=None,\n",
       "              learning_rate=0.1, loss='deviance', max_depth=3,\n",
       "              max_features=None, max_leaf_nodes=None,\n",
       "              min_impurity_decrease=0.0, min_impurity_split=None,\n",
       "              min_samples_leaf=1, min_samples_split=2,\n",
       "              min_weight_fraction_leaf=0.0, n_estimators=100,\n",
       "              presort='auto', random_state=None, subsample=1.0, verbose=0,\n",
       "              warm_start=False)>"
      ]
     },
     "execution_count": 93,
     "metadata": {},
     "output_type": "execute_result"
    }
   ],
   "source": [
    "gb.get_params"
   ]
  },
  {
   "cell_type": "code",
   "execution_count": 94,
   "metadata": {},
   "outputs": [],
   "source": [
    "parameters = {\n",
    "    \"n_estimators\": [100, 300, 500],\n",
    "    \"learning_rate\": [0.01, 0.05, 0.1, 0.2],\n",
    "    \"min_samples_split\": np.linspace(0.1, 0.5, 3),\n",
    "    \"min_samples_leaf\": np.linspace(0.1, 0.5, 3),\n",
    "    \"max_depth\":[3,5,8],\n",
    "    }"
   ]
  },
  {
   "cell_type": "code",
   "execution_count": 95,
   "metadata": {},
   "outputs": [],
   "source": [
    "clf = GridSearchCV(GradientBoostingClassifier(), parameters, cv = 3, \n",
    "                   verbose = 2)"
   ]
  },
  {
   "cell_type": "code",
   "execution_count": 96,
   "metadata": {},
   "outputs": [],
   "source": [
    "#clf.fit(X_train, y_train)"
   ]
  },
  {
   "cell_type": "code",
   "execution_count": 97,
   "metadata": {},
   "outputs": [],
   "source": [
    "#print(clf.score(X_train, y_train))\n",
    "#print(clf.best_params_)"
   ]
  },
  {
   "cell_type": "code",
   "execution_count": null,
   "metadata": {},
   "outputs": [],
   "source": []
  },
  {
   "cell_type": "code",
   "execution_count": null,
   "metadata": {},
   "outputs": [],
   "source": []
  },
  {
   "cell_type": "code",
   "execution_count": null,
   "metadata": {},
   "outputs": [],
   "source": []
  },
  {
   "cell_type": "code",
   "execution_count": null,
   "metadata": {},
   "outputs": [],
   "source": []
  },
  {
   "cell_type": "code",
   "execution_count": null,
   "metadata": {},
   "outputs": [],
   "source": []
  },
  {
   "cell_type": "markdown",
   "metadata": {},
   "source": [
    "**Random Forest Classifier**"
   ]
  },
  {
   "cell_type": "code",
   "execution_count": 98,
   "metadata": {},
   "outputs": [],
   "source": [
    "clf = RandomForestClassifier(n_jobs = -1)"
   ]
  },
  {
   "cell_type": "code",
   "execution_count": 99,
   "metadata": {},
   "outputs": [
    {
     "data": {
      "text/plain": [
       "RandomForestClassifier(bootstrap=True, class_weight=None, criterion='gini',\n",
       "            max_depth=None, max_features='auto', max_leaf_nodes=None,\n",
       "            min_impurity_decrease=0.0, min_impurity_split=None,\n",
       "            min_samples_leaf=1, min_samples_split=2,\n",
       "            min_weight_fraction_leaf=0.0, n_estimators=10, n_jobs=-1,\n",
       "            oob_score=False, random_state=None, verbose=0,\n",
       "            warm_start=False)"
      ]
     },
     "execution_count": 99,
     "metadata": {},
     "output_type": "execute_result"
    }
   ],
   "source": [
    "clf.fit(X_train, y_train)"
   ]
  },
  {
   "cell_type": "code",
   "execution_count": 100,
   "metadata": {},
   "outputs": [
    {
     "name": "stdout",
     "output_type": "stream",
     "text": [
      "Confusion matrix: \n",
      "\n",
      "[[48327  1183]\n",
      " [  777 32631]]\n"
     ]
    }
   ],
   "source": [
    "print(\"Confusion matrix: \\n\" )\n",
    "\n",
    "predictions  = clf.predict(X_test)\n",
    "print(confusion_matrix(y_test, predictions))"
   ]
  },
  {
   "cell_type": "code",
   "execution_count": 101,
   "metadata": {},
   "outputs": [
    {
     "name": "stdout",
     "output_type": "stream",
     "text": [
      "0.9763621891507273\n"
     ]
    }
   ],
   "source": [
    "rfc_accuracy = accuracy_score(y_test, predictions)\n",
    "print(rfc_accuracy)"
   ]
  },
  {
   "cell_type": "code",
   "execution_count": 102,
   "metadata": {},
   "outputs": [
    {
     "data": {
      "text/html": [
       "<div>\n",
       "<style scoped>\n",
       "    .dataframe tbody tr th:only-of-type {\n",
       "        vertical-align: middle;\n",
       "    }\n",
       "\n",
       "    .dataframe tbody tr th {\n",
       "        vertical-align: top;\n",
       "    }\n",
       "\n",
       "    .dataframe thead th {\n",
       "        text-align: right;\n",
       "    }\n",
       "</style>\n",
       "<table border=\"1\" class=\"dataframe\">\n",
       "  <thead>\n",
       "    <tr style=\"text-align: right;\">\n",
       "      <th></th>\n",
       "      <th>RFC Importance</th>\n",
       "    </tr>\n",
       "  </thead>\n",
       "  <tbody>\n",
       "    <tr>\n",
       "      <th>usd_pledged</th>\n",
       "      <td>0.280802</td>\n",
       "    </tr>\n",
       "    <tr>\n",
       "      <th>backers</th>\n",
       "      <td>0.274989</td>\n",
       "    </tr>\n",
       "    <tr>\n",
       "      <th>usd_goal</th>\n",
       "      <td>0.185691</td>\n",
       "    </tr>\n",
       "    <tr>\n",
       "      <th>pledge_per_backer</th>\n",
       "      <td>0.090053</td>\n",
       "    </tr>\n",
       "    <tr>\n",
       "      <th>name_length</th>\n",
       "      <td>0.015517</td>\n",
       "    </tr>\n",
       "  </tbody>\n",
       "</table>\n",
       "</div>"
      ],
      "text/plain": [
       "                   RFC Importance\n",
       "usd_pledged        0.280802      \n",
       "backers            0.274989      \n",
       "usd_goal           0.185691      \n",
       "pledge_per_backer  0.090053      \n",
       "name_length        0.015517      "
      ]
     },
     "execution_count": 102,
     "metadata": {},
     "output_type": "execute_result"
    }
   ],
   "source": [
    "rfc_importances = pd.DataFrame(clf.feature_importances_,\n",
    "                        index = X_train.columns, columns = \n",
    "                               ['RFC Importance'])\n",
    "\n",
    "rfc_importances.sort_values(by = 'RFC Importance', \n",
    "                           inplace = True, ascending = False)\n",
    "rfc_importances.head()"
   ]
  },
  {
   "cell_type": "markdown",
   "metadata": {},
   "source": [
    "*Does cutting down the number of features improve performance?*"
   ]
  },
  {
   "cell_type": "code",
   "execution_count": 103,
   "metadata": {},
   "outputs": [
    {
     "data": {
      "text/plain": [
       "Index(['usd_pledged', 'backers', 'usd_goal', 'pledge_per_backer',\n",
       "       'name_length', 'launched_day', 'deadline_day', 'launched_hour',\n",
       "       'launched_month', 'deadline_month'],\n",
       "      dtype='object')"
      ]
     },
     "execution_count": 103,
     "metadata": {},
     "output_type": "execute_result"
    }
   ],
   "source": [
    "rfc_importances.index[:10]"
   ]
  },
  {
   "cell_type": "code",
   "execution_count": 104,
   "metadata": {},
   "outputs": [],
   "source": [
    "X_train_cut = X_train[rfc_importances.index[:20]]"
   ]
  },
  {
   "cell_type": "code",
   "execution_count": 105,
   "metadata": {},
   "outputs": [],
   "source": [
    "X_test_cut = X_test[rfc_importances.index[:20]]"
   ]
  },
  {
   "cell_type": "code",
   "execution_count": 106,
   "metadata": {},
   "outputs": [],
   "source": [
    "clf2 = RandomForestClassifier(n_jobs = -1)"
   ]
  },
  {
   "cell_type": "code",
   "execution_count": 107,
   "metadata": {},
   "outputs": [
    {
     "data": {
      "text/plain": [
       "RandomForestClassifier(bootstrap=True, class_weight=None, criterion='gini',\n",
       "            max_depth=None, max_features='auto', max_leaf_nodes=None,\n",
       "            min_impurity_decrease=0.0, min_impurity_split=None,\n",
       "            min_samples_leaf=1, min_samples_split=2,\n",
       "            min_weight_fraction_leaf=0.0, n_estimators=10, n_jobs=-1,\n",
       "            oob_score=False, random_state=None, verbose=0,\n",
       "            warm_start=False)"
      ]
     },
     "execution_count": 107,
     "metadata": {},
     "output_type": "execute_result"
    }
   ],
   "source": [
    "clf2.fit(X_train_cut, y_train)"
   ]
  },
  {
   "cell_type": "code",
   "execution_count": 108,
   "metadata": {},
   "outputs": [
    {
     "name": "stdout",
     "output_type": "stream",
     "text": [
      "Confusion matrix: \n",
      "\n",
      "[[49172   152]\n",
      " [  338 33256]]\n"
     ]
    }
   ],
   "source": [
    "print(\"Confusion matrix: \\n\" )\n",
    "\n",
    "predictions2  = clf2.predict(X_test_cut)\n",
    "print(confusion_matrix(predictions2, y_test))"
   ]
  },
  {
   "cell_type": "code",
   "execution_count": 109,
   "metadata": {},
   "outputs": [
    {
     "name": "stdout",
     "output_type": "stream",
     "text": [
      "0.9940905472876818\n"
     ]
    }
   ],
   "source": [
    "rfc_cut_accuracy = accuracy_score(y_test, predictions2)\n",
    "print(rfc_cut_accuracy)"
   ]
  },
  {
   "cell_type": "code",
   "execution_count": 110,
   "metadata": {},
   "outputs": [
    {
     "name": "stdout",
     "output_type": "stream",
     "text": [
      "Comparing accuracy across models done so far\n"
     ]
    },
    {
     "data": {
      "text/plain": [
       "gradient boost       0.990870\n",
       "random forest        0.976362\n",
       "random forest cut    0.994091\n",
       "dtype: float64"
      ]
     },
     "execution_count": 110,
     "metadata": {},
     "output_type": "execute_result"
    }
   ],
   "source": [
    "print('Comparing accuracy across models done so far')\n",
    "\n",
    "pd.Series([gb_accuracy, rfc_accuracy, rfc_cut_accuracy], index = \n",
    "         ['gradient boost', 'random forest', 'random forest cut'])"
   ]
  },
  {
   "cell_type": "markdown",
   "metadata": {},
   "source": [
    "**Logistic Regression**"
   ]
  },
  {
   "cell_type": "code",
   "execution_count": 111,
   "metadata": {},
   "outputs": [],
   "source": [
    "lr = LogisticRegression()"
   ]
  },
  {
   "cell_type": "code",
   "execution_count": 112,
   "metadata": {},
   "outputs": [
    {
     "name": "stdout",
     "output_type": "stream",
     "text": [
      "0.8214742275501098\n"
     ]
    }
   ],
   "source": [
    "#using the cut back features, since that worked so well above\n",
    "\n",
    "lr.fit(X_train_cut, y_train)\n",
    "predictions3 = lr.predict(X_test_cut)\n",
    "lr_accuracy = accuracy_score(predictions3, y_test)\n",
    "print(lr_accuracy)\n",
    "\n",
    "#oh dear, not very good"
   ]
  },
  {
   "cell_type": "code",
   "execution_count": 113,
   "metadata": {},
   "outputs": [],
   "source": [
    "lr2 = LogisticRegression()"
   ]
  },
  {
   "cell_type": "code",
   "execution_count": 114,
   "metadata": {},
   "outputs": [
    {
     "name": "stdout",
     "output_type": "stream",
     "text": [
      "0.8465351310933693\n"
     ]
    }
   ],
   "source": [
    "lr2.fit(X_train, y_train)\n",
    "predictions4 = lr2.predict(X_test)\n",
    "lr_accuracy2 = accuracy_score(predictions4, y_test)\n",
    "print(lr_accuracy2)\n",
    "\n",
    "#interesting that random forest is better with less features, but logistic regression isn't"
   ]
  },
  {
   "cell_type": "markdown",
   "metadata": {},
   "source": [
    "### Looping through models"
   ]
  },
  {
   "cell_type": "code",
   "execution_count": 115,
   "metadata": {},
   "outputs": [],
   "source": [
    "from sklearn.svm import SVC"
   ]
  },
  {
   "cell_type": "code",
   "execution_count": 116,
   "metadata": {},
   "outputs": [],
   "source": [
    "classifiers = [\n",
    "    RandomForestClassifier(), \n",
    "    GaussianNB(), \n",
    "    LogisticRegression(),\n",
    "    GradientBoostingClassifier(), \n",
    "    #SVC()\n",
    "]\n",
    "\n",
    "log_cols = ['Classifier', 'Accuracy', 'Log Loss']\n",
    "log = pd.DataFrame(columns = log_cols)"
   ]
  },
  {
   "cell_type": "code",
   "execution_count": 117,
   "metadata": {},
   "outputs": [
    {
     "name": "stdout",
     "output_type": "stream",
     "text": [
      "----------\n",
      "RandomForestClassifier\n",
      "Accuracy: 0.9754215007597867\n",
      "Log loss: 0.11996685836682021\n",
      "----------\n",
      "GaussianNB\n",
      "Accuracy: 0.5966858824380713\n",
      "Log loss: 7.5900142825578785\n",
      "----------\n",
      "LogisticRegression\n",
      "Accuracy: 0.8465351310933693\n",
      "Log loss: 0.40011136822799065\n",
      "----------\n",
      "GradientBoostingClassifier\n",
      "Accuracy: 0.9908704985648472\n",
      "Log loss: 0.03886672122746923\n"
     ]
    }
   ],
   "source": [
    "for clf in classifiers:\n",
    "    clf.fit(X_train, y_train)\n",
    "    name = clf.__class__.__name__\n",
    "    \n",
    "    print('-'*10)\n",
    "    print(name)\n",
    "    \n",
    "    train_predictions = clf.predict(X_test)\n",
    "    acc = accuracy_score(y_test, train_predictions)\n",
    "    print('Accuracy:', acc)\n",
    "    \n",
    "    train_predictions = clf.predict_proba(X_test)\n",
    "    ll = log_loss(y_test, train_predictions)\n",
    "    print('Log loss:', ll)"
   ]
  },
  {
   "cell_type": "code",
   "execution_count": null,
   "metadata": {},
   "outputs": [],
   "source": []
  },
  {
   "cell_type": "markdown",
   "metadata": {},
   "source": [
    "## Utilizing the name column"
   ]
  },
  {
   "cell_type": "code",
   "execution_count": 380,
   "metadata": {},
   "outputs": [],
   "source": [
    "import re\n",
    "from nltk.corpus import stopwords"
   ]
  },
  {
   "cell_type": "code",
   "execution_count": 381,
   "metadata": {},
   "outputs": [],
   "source": [
    "named_data = data[['name', 'state']]\n",
    "\n",
    "named_data = named_data[(named_data['state'] == 'failed') | \n",
    "                        (named_data['state'] == 'successful')]\n",
    "\n",
    "named_data['state'] = named_data['state'].apply(to_int)"
   ]
  },
  {
   "cell_type": "code",
   "execution_count": 382,
   "metadata": {},
   "outputs": [
    {
     "data": {
      "image/png": "[encoded data removed]",
      "text/plain": [
       "<Figure size 432x288 with 1 Axes>"
      ]
     },
     "metadata": {
      "needs_background": "light"
     },
     "output_type": "display_data"
    }
   ],
   "source": [
    "named_data['state'].value_counts().plot.bar()\n",
    "plt.show()"
   ]
  },
  {
   "cell_type": "markdown",
   "metadata": {},
   "source": [
    "**Cleaning data**"
   ]
  },
  {
   "cell_type": "code",
   "execution_count": 393,
   "metadata": {},
   "outputs": [],
   "source": [
    "def name_to_words(raw_name):\n",
    "    letters_only = re.sub(\"[^a-z^A-Z]\", \" \", raw_name)\n",
    "    words = letters_only.lower().split()\n",
    "    stops = set(stopwords.words('english')) \n",
    "        #searching a set is faster than searching a list\n",
    "    return [w for w in words if not w in stops]"
   ]
  },
  {
   "cell_type": "code",
   "execution_count": 384,
   "metadata": {},
   "outputs": [],
   "source": [
    "named_data['name'].fillna('', inplace = True)"
   ]
  },
  {
   "cell_type": "code",
   "execution_count": 385,
   "metadata": {},
   "outputs": [
    {
     "data": {
      "text/html": [
       "<div>\n",
       "<style scoped>\n",
       "    .dataframe tbody tr th:only-of-type {\n",
       "        vertical-align: middle;\n",
       "    }\n",
       "\n",
       "    .dataframe tbody tr th {\n",
       "        vertical-align: top;\n",
       "    }\n",
       "\n",
       "    .dataframe thead th {\n",
       "        text-align: right;\n",
       "    }\n",
       "</style>\n",
       "<table border=\"1\" class=\"dataframe\">\n",
       "  <thead>\n",
       "    <tr style=\"text-align: right;\">\n",
       "      <th></th>\n",
       "      <th>name</th>\n",
       "      <th>cleaned_name</th>\n",
       "    </tr>\n",
       "  </thead>\n",
       "  <tbody>\n",
       "    <tr>\n",
       "      <th>1</th>\n",
       "      <td>Greeting From Earth: ZGAC Arts Capsule For ET</td>\n",
       "      <td>greeting earth zgac arts capsule et</td>\n",
       "    </tr>\n",
       "    <tr>\n",
       "      <th>2</th>\n",
       "      <td>Where is Hank?</td>\n",
       "      <td>hank</td>\n",
       "    </tr>\n",
       "    <tr>\n",
       "      <th>3</th>\n",
       "      <td>ToshiCapital Rekordz Needs Help to Complete Album</td>\n",
       "      <td>toshicapital rekordz needs help complete album</td>\n",
       "    </tr>\n",
       "  </tbody>\n",
       "</table>\n",
       "</div>"
      ],
      "text/plain": [
       "                                                name  \\\n",
       "1  Greeting From Earth: ZGAC Arts Capsule For ET       \n",
       "2  Where is Hank?                                      \n",
       "3  ToshiCapital Rekordz Needs Help to Complete Album   \n",
       "\n",
       "                                     cleaned_name  \n",
       "1  greeting earth zgac arts capsule et             \n",
       "2  hank                                            \n",
       "3  toshicapital rekordz needs help complete album  "
      ]
     },
     "execution_count": 385,
     "metadata": {},
     "output_type": "execute_result"
    }
   ],
   "source": [
    "named_data['cleaned_name'] = named_data['name'].apply(name_to_words)\n",
    "\n",
    "named_data[['name', 'cleaned_name']][1:4]"
   ]
  },
  {
   "cell_type": "markdown",
   "metadata": {},
   "source": [
    "**Pipeline / Model w Sklearn's Vectorizers**"
   ]
  },
  {
   "cell_type": "code",
   "execution_count": 415,
   "metadata": {},
   "outputs": [],
   "source": [
    "from sklearn.pipeline import Pipeline"
   ]
  },
  {
   "cell_type": "code",
   "execution_count": 416,
   "metadata": {},
   "outputs": [],
   "source": [
    "X_train, X_test, y_train, y_test = \\\n",
    "train_test_split(named_data['cleaned_name'], named_data['state'])"
   ]
  },
  {
   "cell_type": "code",
   "execution_count": 418,
   "metadata": {},
   "outputs": [],
   "source": [
    "#Logistic Regression\n",
    "\n",
    "pipeline = Pipeline([\n",
    "    ('bow', CountVectorizer()),\n",
    "    ('tfidf', TfidfTransformer()),\n",
    "    ('classifier', LogisticRegression())\n",
    "])\n",
    "\n",
    "pipeline.fit(X_train, y_train)\n",
    "predictions = pipeline.predict(X_train)"
   ]
  },
  {
   "cell_type": "code",
   "execution_count": 425,
   "metadata": {},
   "outputs": [
    {
     "name": "stdout",
     "output_type": "stream",
     "text": [
      "Logistic Regression Results: \n",
      "\n",
      "[[130501  17877]\n",
      " [ 51247  49131]] \n",
      "\n",
      "             precision    recall  f1-score   support\n",
      "\n",
      "          0       0.72      0.88      0.79    148378\n",
      "          1       0.73      0.49      0.59    100378\n",
      "\n",
      "avg / total       0.72      0.72      0.71    248756\n",
      "\n"
     ]
    }
   ],
   "source": [
    "print('Logistic Regression Results: \\n')\n",
    "print(confusion_matrix(y_train, predictions), '\\n')\n",
    "print(classification_report(y_train, predictions))"
   ]
  },
  {
   "cell_type": "code",
   "execution_count": 426,
   "metadata": {},
   "outputs": [],
   "source": [
    "#Random Forest\n",
    "\n",
    "pipeline = Pipeline([\n",
    "    ('bow', CountVectorizer()),\n",
    "    ('tfidf', TfidfTransformer()),\n",
    "    ('classifier', RandomForestClassifier())\n",
    "])\n",
    "\n",
    "pipeline.fit(X_train, y_train)"
   ]
  },
  {
   "cell_type": "code",
   "execution_count": 429,
   "metadata": {},
   "outputs": [
    {
     "name": "stdout",
     "output_type": "stream",
     "text": [
      "Random Forest Results: \n",
      "\n",
      "[[146871   1507]\n",
      " [  6821  93557]] \n",
      "\n",
      "             precision    recall  f1-score   support\n",
      "\n",
      "          0       0.96      0.99      0.97    148378\n",
      "          1       0.98      0.93      0.96    100378\n",
      "\n",
      "avg / total       0.97      0.97      0.97    248756\n",
      "\n"
     ]
    }
   ],
   "source": [
    "predictions = pipeline.predict(X_train)\n",
    "\n",
    "print('Random Forest Results: \\n')\n",
    "print(confusion_matrix(y_train, predictions), '\\n')\n",
    "print(classification_report(y_train, predictions))"
   ]
  }
 ],
 "metadata": {
  "kernelspec": {
   "display_name": "Python 3",
   "language": "python",
   "name": "python3"
  },
  "language_info": {
   "codemirror_mode": {
    "name": "ipython",
    "version": 3
   },
   "file_extension": ".py",
   "mimetype": "text/x-python",
   "name": "python",
   "nbconvert_exporter": "python",
   "pygments_lexer": "ipython3",
   "version": "3.7.1"
  }
 },
 "nbformat": 4,
 "nbformat_minor": 2
}
