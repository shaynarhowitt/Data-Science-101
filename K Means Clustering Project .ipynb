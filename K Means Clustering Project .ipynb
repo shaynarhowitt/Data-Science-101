{
 "cells": [
  {
   "cell_type": "markdown",
   "metadata": {},
   "source": [
    "___\n",
    "\n",
    "<a href='http://www.pieriandata.com'> <img src='../Pierian_Data_Logo.png' /></a>\n",
    "___\n",
    "# K Means Clustering Project \n",
    "\n",
    "For this project we will attempt to use KMeans Clustering to cluster Universities into to two groups, Private and Public.\n",
    "\n",
    "___\n",
    "It is **very important to note, we actually have the labels for this data set, but we will NOT use them for the KMeans clustering algorithm, since that is an unsupervised learning algorithm.** \n",
    "\n",
    "When using the Kmeans algorithm under normal circumstances, it is because you don't have labels. In this case we will use the labels to try to get an idea of how well the algorithm performed, but you won't usually do this for Kmeans, so the classification report and confusion matrix at the end of this project, don't truly make sense in a real world setting!.\n",
    "___\n",
    "\n",
    "## The Data\n",
    "\n",
    "We will use a data frame with 777 observations on the following 18 variables.\n",
    "* Private A factor with levels No and Yes indicating private or public university\n",
    "* Apps Number of applications received\n",
    "* Accept Number of applications accepted\n",
    "* Enroll Number of new students enrolled\n",
    "* Top10perc Pct. new students from top 10% of H.S. class\n",
    "* Top25perc Pct. new students from top 25% of H.S. class\n",
    "* F.Undergrad Number of fulltime undergraduates\n",
    "* P.Undergrad Number of parttime undergraduates\n",
    "* Outstate Out-of-state tuition\n",
    "* Room.Board Room and board costs\n",
    "* Books Estimated book costs\n",
    "* Personal Estimated personal spending\n",
    "* PhD Pct. of faculty with Ph.D.’s\n",
    "* Terminal Pct. of faculty with terminal degree\n",
    "* S.F.Ratio Student/faculty ratio\n",
    "* perc.alumni Pct. alumni who donate\n",
    "* Expend Instructional expenditure per student\n",
    "* Grad.Rate Graduation rate"
   ]
  },
  {
   "cell_type": "markdown",
   "metadata": {},
   "source": [
    "## Import Libraries\n",
    "\n",
    "** Import the libraries you usually use for data analysis.**"
   ]
  },
  {
   "cell_type": "code",
   "execution_count": 23,
   "metadata": {},
   "outputs": [],
   "source": [
    "import pandas as pd\n",
    "import numpy as np\n",
    "import matplotlib.pyplot as plt\n",
    "import seaborn as sns\n",
    "%matplotlib inline"
   ]
  },
  {
   "cell_type": "markdown",
   "metadata": {},
   "source": [
    "## Get the Data"
   ]
  },
  {
   "cell_type": "markdown",
   "metadata": {},
   "source": [
    "** Read in the College_Data file using read_csv. Figure out how to set the first column as the index.**"
   ]
  },
  {
   "cell_type": "code",
   "execution_count": 24,
   "metadata": {},
   "outputs": [],
   "source": [
    "df = pd.read_csv('College_Data',index_col=0)"
   ]
  },
  {
   "cell_type": "markdown",
   "metadata": {},
   "source": [
    "**Check the head of the data**"
   ]
  },
  {
   "cell_type": "code",
   "execution_count": 25,
   "metadata": {},
   "outputs": [
    {
     "data": {
      "text/html": [
       "<div>\n",
       "<style scoped>\n",
       "    .dataframe tbody tr th:only-of-type {\n",
       "        vertical-align: middle;\n",
       "    }\n",
       "\n",
       "    .dataframe tbody tr th {\n",
       "        vertical-align: top;\n",
       "    }\n",
       "\n",
       "    .dataframe thead th {\n",
       "        text-align: right;\n",
       "    }\n",
       "</style>\n",
       "<table border=\"1\" class=\"dataframe\">\n",
       "  <thead>\n",
       "    <tr style=\"text-align: right;\">\n",
       "      <th></th>\n",
       "      <th>Private</th>\n",
       "      <th>Apps</th>\n",
       "      <th>Accept</th>\n",
       "      <th>Enroll</th>\n",
       "      <th>Top10perc</th>\n",
       "      <th>Top25perc</th>\n",
       "      <th>F.Undergrad</th>\n",
       "      <th>P.Undergrad</th>\n",
       "      <th>Outstate</th>\n",
       "      <th>Room.Board</th>\n",
       "      <th>Books</th>\n",
       "      <th>Personal</th>\n",
       "      <th>PhD</th>\n",
       "      <th>Terminal</th>\n",
       "      <th>S.F.Ratio</th>\n",
       "      <th>perc.alumni</th>\n",
       "      <th>Expend</th>\n",
       "      <th>Grad.Rate</th>\n",
       "    </tr>\n",
       "  </thead>\n",
       "  <tbody>\n",
       "    <tr>\n",
       "      <th>Abilene Christian University</th>\n",
       "      <td>Yes</td>\n",
       "      <td>1660</td>\n",
       "      <td>1232</td>\n",
       "      <td>721</td>\n",
       "      <td>23</td>\n",
       "      <td>52</td>\n",
       "      <td>2885</td>\n",
       "      <td>537</td>\n",
       "      <td>7440</td>\n",
       "      <td>3300</td>\n",
       "      <td>450</td>\n",
       "      <td>2200</td>\n",
       "      <td>70</td>\n",
       "      <td>78</td>\n",
       "      <td>18.1</td>\n",
       "      <td>12</td>\n",
       "      <td>7041</td>\n",
       "      <td>60</td>\n",
       "    </tr>\n",
       "    <tr>\n",
       "      <th>Adelphi University</th>\n",
       "      <td>Yes</td>\n",
       "      <td>2186</td>\n",
       "      <td>1924</td>\n",
       "      <td>512</td>\n",
       "      <td>16</td>\n",
       "      <td>29</td>\n",
       "      <td>2683</td>\n",
       "      <td>1227</td>\n",
       "      <td>12280</td>\n",
       "      <td>6450</td>\n",
       "      <td>750</td>\n",
       "      <td>1500</td>\n",
       "      <td>29</td>\n",
       "      <td>30</td>\n",
       "      <td>12.2</td>\n",
       "      <td>16</td>\n",
       "      <td>10527</td>\n",
       "      <td>56</td>\n",
       "    </tr>\n",
       "    <tr>\n",
       "      <th>Adrian College</th>\n",
       "      <td>Yes</td>\n",
       "      <td>1428</td>\n",
       "      <td>1097</td>\n",
       "      <td>336</td>\n",
       "      <td>22</td>\n",
       "      <td>50</td>\n",
       "      <td>1036</td>\n",
       "      <td>99</td>\n",
       "      <td>11250</td>\n",
       "      <td>3750</td>\n",
       "      <td>400</td>\n",
       "      <td>1165</td>\n",
       "      <td>53</td>\n",
       "      <td>66</td>\n",
       "      <td>12.9</td>\n",
       "      <td>30</td>\n",
       "      <td>8735</td>\n",
       "      <td>54</td>\n",
       "    </tr>\n",
       "    <tr>\n",
       "      <th>Agnes Scott College</th>\n",
       "      <td>Yes</td>\n",
       "      <td>417</td>\n",
       "      <td>349</td>\n",
       "      <td>137</td>\n",
       "      <td>60</td>\n",
       "      <td>89</td>\n",
       "      <td>510</td>\n",
       "      <td>63</td>\n",
       "      <td>12960</td>\n",
       "      <td>5450</td>\n",
       "      <td>450</td>\n",
       "      <td>875</td>\n",
       "      <td>92</td>\n",
       "      <td>97</td>\n",
       "      <td>7.7</td>\n",
       "      <td>37</td>\n",
       "      <td>19016</td>\n",
       "      <td>59</td>\n",
       "    </tr>\n",
       "    <tr>\n",
       "      <th>Alaska Pacific University</th>\n",
       "      <td>Yes</td>\n",
       "      <td>193</td>\n",
       "      <td>146</td>\n",
       "      <td>55</td>\n",
       "      <td>16</td>\n",
       "      <td>44</td>\n",
       "      <td>249</td>\n",
       "      <td>869</td>\n",
       "      <td>7560</td>\n",
       "      <td>4120</td>\n",
       "      <td>800</td>\n",
       "      <td>1500</td>\n",
       "      <td>76</td>\n",
       "      <td>72</td>\n",
       "      <td>11.9</td>\n",
       "      <td>2</td>\n",
       "      <td>10922</td>\n",
       "      <td>15</td>\n",
       "    </tr>\n",
       "  </tbody>\n",
       "</table>\n",
       "</div>"
      ],
      "text/plain": [
       "                             Private  Apps  Accept  Enroll  Top10perc  \\\n",
       "Abilene Christian University     Yes  1660    1232     721         23   \n",
       "Adelphi University               Yes  2186    1924     512         16   \n",
       "Adrian College                   Yes  1428    1097     336         22   \n",
       "Agnes Scott College              Yes   417     349     137         60   \n",
       "Alaska Pacific University        Yes   193     146      55         16   \n",
       "\n",
       "                              Top25perc  F.Undergrad  P.Undergrad  Outstate  \\\n",
       "Abilene Christian University         52         2885          537      7440   \n",
       "Adelphi University                   29         2683         1227     12280   \n",
       "Adrian College                       50         1036           99     11250   \n",
       "Agnes Scott College                  89          510           63     12960   \n",
       "Alaska Pacific University            44          249          869      7560   \n",
       "\n",
       "                              Room.Board  Books  Personal  PhD  Terminal  \\\n",
       "Abilene Christian University        3300    450      2200   70        78   \n",
       "Adelphi University                  6450    750      1500   29        30   \n",
       "Adrian College                      3750    400      1165   53        66   \n",
       "Agnes Scott College                 5450    450       875   92        97   \n",
       "Alaska Pacific University           4120    800      1500   76        72   \n",
       "\n",
       "                              S.F.Ratio  perc.alumni  Expend  Grad.Rate  \n",
       "Abilene Christian University       18.1           12    7041         60  \n",
       "Adelphi University                 12.2           16   10527         56  \n",
       "Adrian College                     12.9           30    8735         54  \n",
       "Agnes Scott College                 7.7           37   19016         59  \n",
       "Alaska Pacific University          11.9            2   10922         15  "
      ]
     },
     "execution_count": 25,
     "metadata": {},
     "output_type": "execute_result"
    }
   ],
   "source": [
    "df.head()"
   ]
  },
  {
   "cell_type": "markdown",
   "metadata": {},
   "source": [
    "** Check the info() and describe() methods on the data.**"
   ]
  },
  {
   "cell_type": "code",
   "execution_count": 26,
   "metadata": {},
   "outputs": [
    {
     "name": "stdout",
     "output_type": "stream",
     "text": [
      "<class 'pandas.core.frame.DataFrame'>\n",
      "Index: 777 entries, Abilene Christian University to York College of Pennsylvania\n",
      "Data columns (total 18 columns):\n",
      "Private        777 non-null object\n",
      "Apps           777 non-null int64\n",
      "Accept         777 non-null int64\n",
      "Enroll         777 non-null int64\n",
      "Top10perc      777 non-null int64\n",
      "Top25perc      777 non-null int64\n",
      "F.Undergrad    777 non-null int64\n",
      "P.Undergrad    777 non-null int64\n",
      "Outstate       777 non-null int64\n",
      "Room.Board     777 non-null int64\n",
      "Books          777 non-null int64\n",
      "Personal       777 non-null int64\n",
      "PhD            777 non-null int64\n",
      "Terminal       777 non-null int64\n",
      "S.F.Ratio      777 non-null float64\n",
      "perc.alumni    777 non-null int64\n",
      "Expend         777 non-null int64\n",
      "Grad.Rate      777 non-null int64\n",
      "dtypes: float64(1), int64(16), object(1)\n",
      "memory usage: 115.3+ KB\n"
     ]
    }
   ],
   "source": [
    "df.info()"
   ]
  },
  {
   "cell_type": "code",
   "execution_count": 27,
   "metadata": {},
   "outputs": [
    {
     "data": {
      "text/plain": [
       "<bound method NDFrame.describe of                                         Private   Apps  Accept  Enroll  \\\n",
       "Abilene Christian University                Yes   1660    1232     721   \n",
       "Adelphi University                          Yes   2186    1924     512   \n",
       "Adrian College                              Yes   1428    1097     336   \n",
       "Agnes Scott College                         Yes    417     349     137   \n",
       "Alaska Pacific University                   Yes    193     146      55   \n",
       "Albertson College                           Yes    587     479     158   \n",
       "Albertus Magnus College                     Yes    353     340     103   \n",
       "Albion College                              Yes   1899    1720     489   \n",
       "Albright College                            Yes   1038     839     227   \n",
       "Alderson-Broaddus College                   Yes    582     498     172   \n",
       "Alfred University                           Yes   1732    1425     472   \n",
       "Allegheny College                           Yes   2652    1900     484   \n",
       "Allentown Coll. of St. Francis de Sales     Yes   1179     780     290   \n",
       "Alma College                                Yes   1267    1080     385   \n",
       "Alverno College                             Yes    494     313     157   \n",
       "American International College              Yes   1420    1093     220   \n",
       "Amherst College                             Yes   4302     992     418   \n",
       "Anderson University                         Yes   1216     908     423   \n",
       "Andrews University                          Yes   1130     704     322   \n",
       "Angelo State University                      No   3540    2001    1016   \n",
       "Antioch University                          Yes    713     661     252   \n",
       "Appalachian State University                 No   7313    4664    1910   \n",
       "Aquinas College                             Yes    619     516     219   \n",
       "Arizona State University Main campus         No  12809   10308    3761   \n",
       "Arkansas College (Lyon College)             Yes    708     334     166   \n",
       "Arkansas Tech University                     No   1734    1729     951   \n",
       "Assumption College                          Yes   2135    1700     491   \n",
       "Auburn University-Main Campus                No   7548    6791    3070   \n",
       "Augsburg College                            Yes    662     513     257   \n",
       "Augustana College IL                        Yes   1879    1658     497   \n",
       "...                                         ...    ...     ...     ...   \n",
       "Westfield State College                      No   3100    2150     825   \n",
       "Westminster College MO                      Yes    662     553     184   \n",
       "Westminster College                         Yes    996     866     377   \n",
       "Westminster College of Salt Lake City       Yes    917     720     213   \n",
       "Westmont College                             No    950     713     351   \n",
       "Wheaton College IL                          Yes   1432     920     548   \n",
       "Westminster College PA                      Yes   1738    1373     417   \n",
       "Wheeling Jesuit College                     Yes    903     755     213   \n",
       "Whitman College                             Yes   1861     998     359   \n",
       "Whittier College                            Yes   1681    1069     344   \n",
       "Whitworth College                           Yes   1121     926     372   \n",
       "Widener University                          Yes   2139    1492     502   \n",
       "Wilkes University                           Yes   1631    1431     434   \n",
       "Willamette University                       Yes   1658    1327     395   \n",
       "William Jewell College                      Yes    663     547     315   \n",
       "William Woods University                    Yes    469     435     227   \n",
       "Williams College                            Yes   4186    1245     526   \n",
       "Wilson College                              Yes    167     130      46   \n",
       "Wingate College                             Yes   1239    1017     383   \n",
       "Winona State University                      No   3325    2047    1301   \n",
       "Winthrop University                          No   2320    1805     769   \n",
       "Wisconsin Lutheran College                  Yes    152     128      75   \n",
       "Wittenberg University                       Yes   1979    1739     575   \n",
       "Wofford College                             Yes   1501     935     273   \n",
       "Worcester Polytechnic Institute             Yes   2768    2314     682   \n",
       "Worcester State College                      No   2197    1515     543   \n",
       "Xavier University                           Yes   1959    1805     695   \n",
       "Xavier University of Louisiana              Yes   2097    1915     695   \n",
       "Yale University                             Yes  10705    2453    1317   \n",
       "York College of Pennsylvania                Yes   2989    1855     691   \n",
       "\n",
       "                                         Top10perc  Top25perc  F.Undergrad  \\\n",
       "Abilene Christian University                    23         52         2885   \n",
       "Adelphi University                              16         29         2683   \n",
       "Adrian College                                  22         50         1036   \n",
       "Agnes Scott College                             60         89          510   \n",
       "Alaska Pacific University                       16         44          249   \n",
       "Albertson College                               38         62          678   \n",
       "Albertus Magnus College                         17         45          416   \n",
       "Albion College                                  37         68         1594   \n",
       "Albright College                                30         63          973   \n",
       "Alderson-Broaddus College                       21         44          799   \n",
       "Alfred University                               37         75         1830   \n",
       "Allegheny College                               44         77         1707   \n",
       "Allentown Coll. of St. Francis de Sales         38         64         1130   \n",
       "Alma College                                    44         73         1306   \n",
       "Alverno College                                 23         46         1317   \n",
       "American International College                   9         22         1018   \n",
       "Amherst College                                 83         96         1593   \n",
       "Anderson University                             19         40         1819   \n",
       "Andrews University                              14         23         1586   \n",
       "Angelo State University                         24         54         4190   \n",
       "Antioch University                              25         44          712   \n",
       "Appalachian State University                    20         63         9940   \n",
       "Aquinas College                                 20         51         1251   \n",
       "Arizona State University Main campus            24         49        22593   \n",
       "Arkansas College (Lyon College)                 46         74          530   \n",
       "Arkansas Tech University                        12         52         3602   \n",
       "Assumption College                              23         59         1708   \n",
       "Auburn University-Main Campus                   25         57        16262   \n",
       "Augsburg College                                12         30         2074   \n",
       "Augustana College IL                            36         69         1950   \n",
       "...                                            ...        ...          ...   \n",
       "Westfield State College                          3         20         3234   \n",
       "Westminster College MO                          20         43          665   \n",
       "Westminster College                             29         58         1411   \n",
       "Westminster College of Salt Lake City           21         60          979   \n",
       "Westmont College                                42         72         1276   \n",
       "Wheaton College IL                              56         84         2200   \n",
       "Westminster College PA                          21         55         1335   \n",
       "Wheeling Jesuit College                         15         49          971   \n",
       "Whitman College                                 45         77         1220   \n",
       "Whittier College                                35         63         1235   \n",
       "Whitworth College                               43         70         1270   \n",
       "Widener University                              24         64         2186   \n",
       "Wilkes University                               15         36         1803   \n",
       "Willamette University                           49         80         1595   \n",
       "William Jewell College                          32         67         1279   \n",
       "William Woods University                        17         39          851   \n",
       "Williams College                                81         96         1988   \n",
       "Wilson College                                  16         50          199   \n",
       "Wingate College                                 10         34         1207   \n",
       "Winona State University                         20         45         5800   \n",
       "Winthrop University                             24         61         3395   \n",
       "Wisconsin Lutheran College                      17         41          282   \n",
       "Wittenberg University                           42         68         1980   \n",
       "Wofford College                                 51         83         1059   \n",
       "Worcester Polytechnic Institute                 49         86         2802   \n",
       "Worcester State College                          4         26         3089   \n",
       "Xavier University                               24         47         2849   \n",
       "Xavier University of Louisiana                  34         61         2793   \n",
       "Yale University                                 95         99         5217   \n",
       "York College of Pennsylvania                    28         63         2988   \n",
       "\n",
       "                                         P.Undergrad  Outstate  Room.Board  \\\n",
       "Abilene Christian University                     537      7440        3300   \n",
       "Adelphi University                              1227     12280        6450   \n",
       "Adrian College                                    99     11250        3750   \n",
       "Agnes Scott College                               63     12960        5450   \n",
       "Alaska Pacific University                        869      7560        4120   \n",
       "Albertson College                                 41     13500        3335   \n",
       "Albertus Magnus College                          230     13290        5720   \n",
       "Albion College                                    32     13868        4826   \n",
       "Albright College                                 306     15595        4400   \n",
       "Alderson-Broaddus College                         78     10468        3380   \n",
       "Alfred University                                110     16548        5406   \n",
       "Allegheny College                                 44     17080        4440   \n",
       "Allentown Coll. of St. Francis de Sales          638      9690        4785   \n",
       "Alma College                                      28     12572        4552   \n",
       "Alverno College                                 1235      8352        3640   \n",
       "American International College                   287      8700        4780   \n",
       "Amherst College                                    5     19760        5300   \n",
       "Anderson University                              281     10100        3520   \n",
       "Andrews University                               326      9996        3090   \n",
       "Angelo State University                         1512      5130        3592   \n",
       "Antioch University                                23     15476        3336   \n",
       "Appalachian State University                    1035      6806        2540   \n",
       "Aquinas College                                  767     11208        4124   \n",
       "Arizona State University Main campus            7585      7434        4850   \n",
       "Arkansas College (Lyon College)                  182      8644        3922   \n",
       "Arkansas Tech University                         939      3460        2650   \n",
       "Assumption College                               689     12000        5920   \n",
       "Auburn University-Main Campus                   1716      6300        3933   \n",
       "Augsburg College                                 726     11902        4372   \n",
       "Augustana College IL                              38     13353        4173   \n",
       "...                                              ...       ...         ...   \n",
       "Westfield State College                          941      5542        3788   \n",
       "Westminster College MO                            37     10720        4050   \n",
       "Westminster College                               72     12065        3615   \n",
       "Westminster College of Salt Lake City            743      8820        4050   \n",
       "Westmont College                                   9     14320        5304   \n",
       "Wheaton College IL                                56     11480        4200   \n",
       "Westminster College PA                            30     18460        5970   \n",
       "Wheeling Jesuit College                          305     10500        4545   \n",
       "Whitman College                                   46     16670        4900   \n",
       "Whittier College                                  30     16249        5699   \n",
       "Whitworth College                                160     12660        4500   \n",
       "Widener University                              2171     12350        5370   \n",
       "Wilkes University                                603     11150        5130   \n",
       "Willamette University                            159     14800        4620   \n",
       "William Jewell College                            75     10060        2970   \n",
       "William Woods University                         120     10535        4365   \n",
       "Williams College                                  29     19629        5790   \n",
       "Wilson College                                   676     11428        5084   \n",
       "Wingate College                                  157      7820        3400   \n",
       "Winona State University                          872      4200        2700   \n",
       "Winthrop University                              670      6400        3392   \n",
       "Wisconsin Lutheran College                        22      9100        3700   \n",
       "Wittenberg University                            144     15948        4404   \n",
       "Wofford College                                   34     12680        4150   \n",
       "Worcester Polytechnic Institute                   86     15884        5370   \n",
       "Worcester State College                         2029      6797        3900   \n",
       "Xavier University                               1107     11520        4960   \n",
       "Xavier University of Louisiana                   166      6900        4200   \n",
       "Yale University                                   83     19840        6510   \n",
       "York College of Pennsylvania                    1726      4990        3560   \n",
       "\n",
       "                                         Books  Personal  PhD  Terminal  \\\n",
       "Abilene Christian University               450      2200   70        78   \n",
       "Adelphi University                         750      1500   29        30   \n",
       "Adrian College                             400      1165   53        66   \n",
       "Agnes Scott College                        450       875   92        97   \n",
       "Alaska Pacific University                  800      1500   76        72   \n",
       "Albertson College                          500       675   67        73   \n",
       "Albertus Magnus College                    500      1500   90        93   \n",
       "Albion College                             450       850   89       100   \n",
       "Albright College                           300       500   79        84   \n",
       "Alderson-Broaddus College                  660      1800   40        41   \n",
       "Alfred University                          500       600   82        88   \n",
       "Allegheny College                          400       600   73        91   \n",
       "Allentown Coll. of St. Francis de Sales    600      1000   60        84   \n",
       "Alma College                               400       400   79        87   \n",
       "Alverno College                            650      2449   36        69   \n",
       "American International College             450      1400   78        84   \n",
       "Amherst College                            660      1598   93        98   \n",
       "Anderson University                        550      1100   48        61   \n",
       "Andrews University                         900      1320   62        66   \n",
       "Angelo State University                    500      2000   60        62   \n",
       "Antioch University                         400      1100   69        82   \n",
       "Appalachian State University                96      2000   83        96   \n",
       "Aquinas College                            350      1615   55        65   \n",
       "Arizona State University Main campus       700      2100   88        93   \n",
       "Arkansas College (Lyon College)            500       800   79        88   \n",
       "Arkansas Tech University                   450      1000   57        60   \n",
       "Assumption College                         500       500   93        93   \n",
       "Auburn University-Main Campus              600      1908   85        91   \n",
       "Augsburg College                           540       950   65        65   \n",
       "Augustana College IL                       540       821   78        83   \n",
       "...                                        ...       ...  ...       ...   \n",
       "Westfield State College                    500      1300   75        79   \n",
       "Westminster College MO                     600      1650   66        70   \n",
       "Westminster College                        430       685   62        78   \n",
       "Westminster College of Salt Lake City      600      2025   68        83   \n",
       "Westmont College                           490      1410   77        77   \n",
       "Wheaton College IL                         530      1400   81        83   \n",
       "Westminster College PA                     700       850   92        96   \n",
       "Wheeling Jesuit College                    600       600   66        71   \n",
       "Whitman College                            750       800   80        83   \n",
       "Whittier College                           500      1998   84        92   \n",
       "Whitworth College                          678      2424   80        80   \n",
       "Widener University                         500      1350   88        86   \n",
       "Wilkes University                          550      1260   78        92   \n",
       "Willamette University                      400       790   91        94   \n",
       "William Jewell College                     500      2600   74        80   \n",
       "William Woods University                   550      3700   39        66   \n",
       "Williams College                           500      1200   94        99   \n",
       "Wilson College                             450       475   67        76   \n",
       "Wingate College                            550      1550   69        81   \n",
       "Winona State University                    300      1200   53        60   \n",
       "Winthrop University                        580      2150   71        80   \n",
       "Wisconsin Lutheran College                 500      1400   48        48   \n",
       "Wittenberg University                      400       800   82        95   \n",
       "Wofford College                            605      1440   91        92   \n",
       "Worcester Polytechnic Institute            530       730   92        94   \n",
       "Worcester State College                    500      1200   60        60   \n",
       "Xavier University                          600      1250   73        75   \n",
       "Xavier University of Louisiana             617       781   67        75   \n",
       "Yale University                            630      2115   96        96   \n",
       "York College of Pennsylvania               500      1250   75        75   \n",
       "\n",
       "                                         S.F.Ratio  perc.alumni  Expend  \\\n",
       "Abilene Christian University                  18.1           12    7041   \n",
       "Adelphi University                            12.2           16   10527   \n",
       "Adrian College                                12.9           30    8735   \n",
       "Agnes Scott College                            7.7           37   19016   \n",
       "Alaska Pacific University                     11.9            2   10922   \n",
       "Albertson College                              9.4           11    9727   \n",
       "Albertus Magnus College                       11.5           26    8861   \n",
       "Albion College                                13.7           37   11487   \n",
       "Albright College                              11.3           23   11644   \n",
       "Alderson-Broaddus College                     11.5           15    8991   \n",
       "Alfred University                             11.3           31   10932   \n",
       "Allegheny College                              9.9           41   11711   \n",
       "Allentown Coll. of St. Francis de Sales       13.3           21    7940   \n",
       "Alma College                                  15.3           32    9305   \n",
       "Alverno College                               11.1           26    8127   \n",
       "American International College                14.7           19    7355   \n",
       "Amherst College                                8.4           63   21424   \n",
       "Anderson University                           12.1           14    7994   \n",
       "Andrews University                            11.5           18   10908   \n",
       "Angelo State University                       23.1            5    4010   \n",
       "Antioch University                            11.3           35   42926   \n",
       "Appalachian State University                  18.3           14    5854   \n",
       "Aquinas College                               12.7           25    6584   \n",
       "Arizona State University Main campus          18.9            5    4602   \n",
       "Arkansas College (Lyon College)               12.6           24   14579   \n",
       "Arkansas Tech University                      19.6            5    4739   \n",
       "Assumption College                            13.8           30    7100   \n",
       "Auburn University-Main Campus                 16.7           18    6642   \n",
       "Augsburg College                              12.8           31    7836   \n",
       "Augustana College IL                          12.7           40    9220   \n",
       "...                                            ...          ...     ...   \n",
       "Westfield State College                       15.7           20    4222   \n",
       "Westminster College MO                        12.5           20    7925   \n",
       "Westminster College                           12.5           41    8596   \n",
       "Westminster College of Salt Lake City         10.5           34    7170   \n",
       "Westmont College                              14.9           17    8837   \n",
       "Wheaton College IL                            12.7           40   11916   \n",
       "Westminster College PA                        13.2           41   22704   \n",
       "Wheeling Jesuit College                       14.1           27    7494   \n",
       "Whitman College                               10.5           51   13198   \n",
       "Whittier College                              13.6           29   11778   \n",
       "Whitworth College                             16.9           20    8328   \n",
       "Widener University                            12.6           19    9603   \n",
       "Wilkes University                             13.3           24    8543   \n",
       "Willamette University                         13.3           37   10779   \n",
       "William Jewell College                        11.2           19    7885   \n",
       "William Woods University                      12.9           16    7438   \n",
       "Williams College                               9.0           64   22014   \n",
       "Wilson College                                 8.3           43   10291   \n",
       "Wingate College                               13.9            8    7264   \n",
       "Winona State University                       20.2           18    5318   \n",
       "Winthrop University                           12.8           26    6729   \n",
       "Wisconsin Lutheran College                     8.5           26    8960   \n",
       "Wittenberg University                         12.8           29   10414   \n",
       "Wofford College                               15.3           42    7875   \n",
       "Worcester Polytechnic Institute               15.2           34   10774   \n",
       "Worcester State College                       21.0           14    4469   \n",
       "Xavier University                             13.3           31    9189   \n",
       "Xavier University of Louisiana                14.4           20    8323   \n",
       "Yale University                                5.8           49   40386   \n",
       "York College of Pennsylvania                  18.1           28    4509   \n",
       "\n",
       "                                         Grad.Rate  \n",
       "Abilene Christian University                    60  \n",
       "Adelphi University                              56  \n",
       "Adrian College                                  54  \n",
       "Agnes Scott College                             59  \n",
       "Alaska Pacific University                       15  \n",
       "Albertson College                               55  \n",
       "Albertus Magnus College                         63  \n",
       "Albion College                                  73  \n",
       "Albright College                                80  \n",
       "Alderson-Broaddus College                       52  \n",
       "Alfred University                               73  \n",
       "Allegheny College                               76  \n",
       "Allentown Coll. of St. Francis de Sales         74  \n",
       "Alma College                                    68  \n",
       "Alverno College                                 55  \n",
       "American International College                  69  \n",
       "Amherst College                                100  \n",
       "Anderson University                             59  \n",
       "Andrews University                              46  \n",
       "Angelo State University                         34  \n",
       "Antioch University                              48  \n",
       "Appalachian State University                    70  \n",
       "Aquinas College                                 65  \n",
       "Arizona State University Main campus            48  \n",
       "Arkansas College (Lyon College)                 54  \n",
       "Arkansas Tech University                        48  \n",
       "Assumption College                              88  \n",
       "Auburn University-Main Campus                   69  \n",
       "Augsburg College                                58  \n",
       "Augustana College IL                            71  \n",
       "...                                            ...  \n",
       "Westfield State College                         65  \n",
       "Westminster College MO                          62  \n",
       "Westminster College                             80  \n",
       "Westminster College of Salt Lake City           50  \n",
       "Westmont College                                87  \n",
       "Wheaton College IL                              85  \n",
       "Westminster College PA                          71  \n",
       "Wheeling Jesuit College                         72  \n",
       "Whitman College                                 72  \n",
       "Whittier College                                52  \n",
       "Whitworth College                               80  \n",
       "Widener University                              63  \n",
       "Wilkes University                               67  \n",
       "Willamette University                           68  \n",
       "William Jewell College                          59  \n",
       "William Woods University                        52  \n",
       "Williams College                                99  \n",
       "Wilson College                                  67  \n",
       "Wingate College                                 91  \n",
       "Winona State University                         58  \n",
       "Winthrop University                             59  \n",
       "Wisconsin Lutheran College                      50  \n",
       "Wittenberg University                           78  \n",
       "Wofford College                                 75  \n",
       "Worcester Polytechnic Institute                 82  \n",
       "Worcester State College                         40  \n",
       "Xavier University                               83  \n",
       "Xavier University of Louisiana                  49  \n",
       "Yale University                                 99  \n",
       "York College of Pennsylvania                    99  \n",
       "\n",
       "[777 rows x 18 columns]>"
      ]
     },
     "execution_count": 27,
     "metadata": {},
     "output_type": "execute_result"
    }
   ],
   "source": [
    "df.describe"
   ]
  },
  {
   "cell_type": "markdown",
   "metadata": {},
   "source": [
    "## EDA\n",
    "\n",
    "It's time to create some data visualizations!\n",
    "\n",
    "** Create a scatterplot of Grad.Rate versus Room.Board where the points are colored by the Private column. **"
   ]
  },
  {
   "cell_type": "code",
   "execution_count": 28,
   "metadata": {},
   "outputs": [
    {
     "data": {
      "text/plain": [
       "<seaborn.axisgrid.FacetGrid at 0x1a1fc05a20>"
      ]
     },
     "execution_count": 28,
     "metadata": {},
     "output_type": "execute_result"
    },
    {
     "data": {
      "image/png": "[encoded data removed]",
      "text/plain": [
       "<matplotlib.figure.Figure at 0x1a1fc05c50>"
      ]
     },
     "metadata": {},
     "output_type": "display_data"
    }
   ],
   "source": [
    "sns.lmplot(x=\"Grad.Rate\", y=\"Room.Board\", data=df,hue='Private')"
   ]
  },
  {
   "cell_type": "markdown",
   "metadata": {},
   "source": [
    "**Create a scatterplot of F.Undergrad versus Outstate where the points are colored by the Private column.**"
   ]
  },
  {
   "cell_type": "code",
   "execution_count": 29,
   "metadata": {},
   "outputs": [
    {
     "data": {
      "text/plain": [
       "<seaborn.axisgrid.FacetGrid at 0x1a1feb0eb8>"
      ]
     },
     "execution_count": 29,
     "metadata": {},
     "output_type": "execute_result"
    },
    {
     "data": {
      "image/png": "[encoded data removed]",
      "text/plain": [
       "<matplotlib.figure.Figure at 0x1a1feb0898>"
      ]
     },
     "metadata": {},
     "output_type": "display_data"
    }
   ],
   "source": [
    "sns.lmplot(x=\"F.Undergrad\", y=\"Outstate\", data=df,hue='Private')"
   ]
  },
  {
   "cell_type": "markdown",
   "metadata": {},
   "source": [
    "** Create a stacked histogram showing Out of State Tuition based on the Private column. Try doing this using [sns.FacetGrid](https://stanford.edu/~mwaskom/software/seaborn/generated/seaborn.FacetGrid.html). If that is too tricky, see if you can do it just by using two instances of pandas.plot(kind='hist'). **"
   ]
  },
  {
   "cell_type": "code",
   "execution_count": 30,
   "metadata": {},
   "outputs": [],
   "source": [
    "sns.set_style(\"darkgrid\")"
   ]
  },
  {
   "cell_type": "code",
   "execution_count": 31,
   "metadata": {},
   "outputs": [
    {
     "data": {
      "text/plain": [
       "<seaborn.axisgrid.FacetGrid at 0x1a1fccbf60>"
      ]
     },
     "execution_count": 31,
     "metadata": {},
     "output_type": "execute_result"
    },
    {
     "data": {
      "image/png": "[encoded data removed]",
      "text/plain": [
       "<matplotlib.figure.Figure at 0x1a1fccb780>"
      ]
     },
     "metadata": {},
     "output_type": "display_data"
    }
   ],
   "source": [
    "g = sns.FacetGrid(df, hue = 'Private', size = 5, aspect = 2)\n",
    "g = g.map(plt.hist, 'Outstate')\n",
    "g.add_legend()"
   ]
  },
  {
   "cell_type": "markdown",
   "metadata": {},
   "source": [
    "**Create a similar histogram for the Grad.Rate column.**"
   ]
  },
  {
   "cell_type": "code",
   "execution_count": 32,
   "metadata": {},
   "outputs": [
    {
     "data": {
      "text/plain": [
       "<seaborn.axisgrid.FacetGrid at 0x1a1fcb84a8>"
      ]
     },
     "execution_count": 32,
     "metadata": {},
     "output_type": "execute_result"
    },
    {
     "data": {
      "image/png": "[encoded data removed]",
      "text/plain": [
       "<matplotlib.figure.Figure at 0x1a1fdb8160>"
      ]
     },
     "metadata": {},
     "output_type": "display_data"
    }
   ],
   "source": [
    "g = sns.FacetGrid(df, hue = 'Private', size = 5, aspect = 2)\n",
    "g = g.map(plt.hist, 'Grad.Rate')\n",
    "g.add_legend()"
   ]
  },
  {
   "cell_type": "markdown",
   "metadata": {},
   "source": [
    "** Notice how there seems to be a private school with a graduation rate of higher than 100%.What is the name of that school?**"
   ]
  },
  {
   "cell_type": "code",
   "execution_count": 33,
   "metadata": {},
   "outputs": [
    {
     "data": {
      "text/html": [
       "<div>\n",
       "<style scoped>\n",
       "    .dataframe tbody tr th:only-of-type {\n",
       "        vertical-align: middle;\n",
       "    }\n",
       "\n",
       "    .dataframe tbody tr th {\n",
       "        vertical-align: top;\n",
       "    }\n",
       "\n",
       "    .dataframe thead th {\n",
       "        text-align: right;\n",
       "    }\n",
       "</style>\n",
       "<table border=\"1\" class=\"dataframe\">\n",
       "  <thead>\n",
       "    <tr style=\"text-align: right;\">\n",
       "      <th></th>\n",
       "      <th>Private</th>\n",
       "      <th>Apps</th>\n",
       "      <th>Accept</th>\n",
       "      <th>Enroll</th>\n",
       "      <th>Top10perc</th>\n",
       "      <th>Top25perc</th>\n",
       "      <th>F.Undergrad</th>\n",
       "      <th>P.Undergrad</th>\n",
       "      <th>Outstate</th>\n",
       "      <th>Room.Board</th>\n",
       "      <th>Books</th>\n",
       "      <th>Personal</th>\n",
       "      <th>PhD</th>\n",
       "      <th>Terminal</th>\n",
       "      <th>S.F.Ratio</th>\n",
       "      <th>perc.alumni</th>\n",
       "      <th>Expend</th>\n",
       "      <th>Grad.Rate</th>\n",
       "    </tr>\n",
       "  </thead>\n",
       "  <tbody>\n",
       "    <tr>\n",
       "      <th>Cazenovia College</th>\n",
       "      <td>Yes</td>\n",
       "      <td>3847</td>\n",
       "      <td>3433</td>\n",
       "      <td>527</td>\n",
       "      <td>9</td>\n",
       "      <td>35</td>\n",
       "      <td>1010</td>\n",
       "      <td>12</td>\n",
       "      <td>9384</td>\n",
       "      <td>4840</td>\n",
       "      <td>600</td>\n",
       "      <td>500</td>\n",
       "      <td>22</td>\n",
       "      <td>47</td>\n",
       "      <td>14.3</td>\n",
       "      <td>20</td>\n",
       "      <td>7697</td>\n",
       "      <td>118</td>\n",
       "    </tr>\n",
       "  </tbody>\n",
       "</table>\n",
       "</div>"
      ],
      "text/plain": [
       "                  Private  Apps  Accept  Enroll  Top10perc  Top25perc  \\\n",
       "Cazenovia College     Yes  3847    3433     527          9         35   \n",
       "\n",
       "                   F.Undergrad  P.Undergrad  Outstate  Room.Board  Books  \\\n",
       "Cazenovia College         1010           12      9384        4840    600   \n",
       "\n",
       "                   Personal  PhD  Terminal  S.F.Ratio  perc.alumni  Expend  \\\n",
       "Cazenovia College       500   22        47       14.3           20    7697   \n",
       "\n",
       "                   Grad.Rate  \n",
       "Cazenovia College        118  "
      ]
     },
     "execution_count": 33,
     "metadata": {},
     "output_type": "execute_result"
    }
   ],
   "source": [
    "df[df['Grad.Rate'] > 100]"
   ]
  },
  {
   "cell_type": "code",
   "execution_count": 34,
   "metadata": {},
   "outputs": [],
   "source": [
    "df = df.drop(['Cazenovia College'])"
   ]
  },
  {
   "cell_type": "markdown",
   "metadata": {},
   "source": [
    "## K Means Cluster Creation\n",
    "\n",
    "Now it is time to create the Cluster labels!\n",
    "\n",
    "** Import KMeans from SciKit Learn.**"
   ]
  },
  {
   "cell_type": "code",
   "execution_count": 35,
   "metadata": {},
   "outputs": [],
   "source": [
    "from sklearn.cluster import KMeans"
   ]
  },
  {
   "cell_type": "markdown",
   "metadata": {},
   "source": [
    "** Create an instance of a K Means model with 2 clusters.**"
   ]
  },
  {
   "cell_type": "code",
   "execution_count": 36,
   "metadata": {},
   "outputs": [],
   "source": [
    "kmeans = KMeans(n_clusters=2)"
   ]
  },
  {
   "cell_type": "markdown",
   "metadata": {},
   "source": [
    "**Fit the model to all the data except for the Private label.**"
   ]
  },
  {
   "cell_type": "code",
   "execution_count": 37,
   "metadata": {},
   "outputs": [
    {
     "data": {
      "text/plain": [
       "Index(['Private', 'Apps', 'Accept', 'Enroll', 'Top10perc', 'Top25perc',\n",
       "       'F.Undergrad', 'P.Undergrad', 'Outstate', 'Room.Board', 'Books',\n",
       "       'Personal', 'PhD', 'Terminal', 'S.F.Ratio', 'perc.alumni', 'Expend',\n",
       "       'Grad.Rate'],\n",
       "      dtype='object')"
      ]
     },
     "execution_count": 37,
     "metadata": {},
     "output_type": "execute_result"
    }
   ],
   "source": [
    "df.columns"
   ]
  },
  {
   "cell_type": "code",
   "execution_count": 38,
   "metadata": {},
   "outputs": [],
   "source": [
    "X = df[['Apps', 'Accept', 'Enroll', 'Top10perc', 'Top25perc',\n",
    "       'F.Undergrad', 'P.Undergrad', 'Outstate', 'Room.Board', 'Books',\n",
    "       'Personal', 'PhD', 'Terminal', 'S.F.Ratio', 'perc.alumni', 'Expend',\n",
    "       'Grad.Rate']]\n",
    "y = df['Private']"
   ]
  },
  {
   "cell_type": "code",
   "execution_count": 39,
   "metadata": {},
   "outputs": [
    {
     "data": {
      "text/plain": [
       "KMeans(algorithm='auto', copy_x=True, init='k-means++', max_iter=300,\n",
       "    n_clusters=2, n_init=10, n_jobs=1, precompute_distances='auto',\n",
       "    random_state=None, tol=0.0001, verbose=0)"
      ]
     },
     "execution_count": 39,
     "metadata": {},
     "output_type": "execute_result"
    }
   ],
   "source": [
    "kmeans.fit(X)"
   ]
  },
  {
   "cell_type": "markdown",
   "metadata": {},
   "source": [
    "** What are the cluster center vectors?**"
   ]
  },
  {
   "cell_type": "code",
   "execution_count": 40,
   "metadata": {},
   "outputs": [
    {
     "data": {
      "text/plain": [
       "array([[1.81019012e+03, 1.28395359e+03, 4.90991018e+02, 2.53338323e+01,\n",
       "        5.34985030e+01, 2.19031287e+03, 5.96332335e+02, 1.03972231e+04,\n",
       "        4.31057335e+03, 5.41895210e+02, 1.28150449e+03, 7.05149701e+01,\n",
       "        7.78712575e+01, 1.40994012e+01, 2.31796407e+01, 8.93389521e+03,\n",
       "        6.50404192e+01],\n",
       "       [1.03631389e+04, 6.55089815e+03, 2.56972222e+03, 4.14907407e+01,\n",
       "        7.02037037e+01, 1.30619352e+04, 2.46486111e+03, 1.07191759e+04,\n",
       "        4.64347222e+03, 5.95212963e+02, 1.71420370e+03, 8.63981481e+01,\n",
       "        9.13333333e+01, 1.40277778e+01, 2.00740741e+01, 1.41705000e+04,\n",
       "        6.75925926e+01]])"
      ]
     },
     "execution_count": 40,
     "metadata": {},
     "output_type": "execute_result"
    }
   ],
   "source": [
    "kmeans.cluster_centers_"
   ]
  },
  {
   "cell_type": "markdown",
   "metadata": {},
   "source": [
    "## Evaluation\n",
    "\n",
    "There is no perfect way to evaluate clustering if you don't have the labels, however since this is just an exercise, we do have the labels, so we take advantage of this to evaluate our clusters, keep in mind, you usually won't have this luxury in the real world.\n",
    "\n",
    "** Create a new column for df called 'Cluster', which is a 1 for a Private school, and a 0 for a public school.**"
   ]
  },
  {
   "cell_type": "code",
   "execution_count": 41,
   "metadata": {},
   "outputs": [
    {
     "data": {
      "text/html": [
       "<div>\n",
       "<style scoped>\n",
       "    .dataframe tbody tr th:only-of-type {\n",
       "        vertical-align: middle;\n",
       "    }\n",
       "\n",
       "    .dataframe tbody tr th {\n",
       "        vertical-align: top;\n",
       "    }\n",
       "\n",
       "    .dataframe thead th {\n",
       "        text-align: right;\n",
       "    }\n",
       "</style>\n",
       "<table border=\"1\" class=\"dataframe\">\n",
       "  <thead>\n",
       "    <tr style=\"text-align: right;\">\n",
       "      <th></th>\n",
       "      <th>Apps</th>\n",
       "      <th>Accept</th>\n",
       "      <th>Enroll</th>\n",
       "      <th>Top10perc</th>\n",
       "      <th>Top25perc</th>\n",
       "      <th>F.Undergrad</th>\n",
       "      <th>P.Undergrad</th>\n",
       "      <th>Outstate</th>\n",
       "      <th>Room.Board</th>\n",
       "      <th>Books</th>\n",
       "      <th>Personal</th>\n",
       "      <th>PhD</th>\n",
       "      <th>Terminal</th>\n",
       "      <th>S.F.Ratio</th>\n",
       "      <th>perc.alumni</th>\n",
       "      <th>Expend</th>\n",
       "      <th>Grad.Rate</th>\n",
       "      <th>Cluster</th>\n",
       "    </tr>\n",
       "  </thead>\n",
       "  <tbody>\n",
       "    <tr>\n",
       "      <th>Abilene Christian University</th>\n",
       "      <td>1660</td>\n",
       "      <td>1232</td>\n",
       "      <td>721</td>\n",
       "      <td>23</td>\n",
       "      <td>52</td>\n",
       "      <td>2885</td>\n",
       "      <td>537</td>\n",
       "      <td>7440</td>\n",
       "      <td>3300</td>\n",
       "      <td>450</td>\n",
       "      <td>2200</td>\n",
       "      <td>70</td>\n",
       "      <td>78</td>\n",
       "      <td>18.1</td>\n",
       "      <td>12</td>\n",
       "      <td>7041</td>\n",
       "      <td>60</td>\n",
       "      <td>1</td>\n",
       "    </tr>\n",
       "    <tr>\n",
       "      <th>Adelphi University</th>\n",
       "      <td>2186</td>\n",
       "      <td>1924</td>\n",
       "      <td>512</td>\n",
       "      <td>16</td>\n",
       "      <td>29</td>\n",
       "      <td>2683</td>\n",
       "      <td>1227</td>\n",
       "      <td>12280</td>\n",
       "      <td>6450</td>\n",
       "      <td>750</td>\n",
       "      <td>1500</td>\n",
       "      <td>29</td>\n",
       "      <td>30</td>\n",
       "      <td>12.2</td>\n",
       "      <td>16</td>\n",
       "      <td>10527</td>\n",
       "      <td>56</td>\n",
       "      <td>1</td>\n",
       "    </tr>\n",
       "    <tr>\n",
       "      <th>Adrian College</th>\n",
       "      <td>1428</td>\n",
       "      <td>1097</td>\n",
       "      <td>336</td>\n",
       "      <td>22</td>\n",
       "      <td>50</td>\n",
       "      <td>1036</td>\n",
       "      <td>99</td>\n",
       "      <td>11250</td>\n",
       "      <td>3750</td>\n",
       "      <td>400</td>\n",
       "      <td>1165</td>\n",
       "      <td>53</td>\n",
       "      <td>66</td>\n",
       "      <td>12.9</td>\n",
       "      <td>30</td>\n",
       "      <td>8735</td>\n",
       "      <td>54</td>\n",
       "      <td>1</td>\n",
       "    </tr>\n",
       "    <tr>\n",
       "      <th>Agnes Scott College</th>\n",
       "      <td>417</td>\n",
       "      <td>349</td>\n",
       "      <td>137</td>\n",
       "      <td>60</td>\n",
       "      <td>89</td>\n",
       "      <td>510</td>\n",
       "      <td>63</td>\n",
       "      <td>12960</td>\n",
       "      <td>5450</td>\n",
       "      <td>450</td>\n",
       "      <td>875</td>\n",
       "      <td>92</td>\n",
       "      <td>97</td>\n",
       "      <td>7.7</td>\n",
       "      <td>37</td>\n",
       "      <td>19016</td>\n",
       "      <td>59</td>\n",
       "      <td>1</td>\n",
       "    </tr>\n",
       "    <tr>\n",
       "      <th>Alaska Pacific University</th>\n",
       "      <td>193</td>\n",
       "      <td>146</td>\n",
       "      <td>55</td>\n",
       "      <td>16</td>\n",
       "      <td>44</td>\n",
       "      <td>249</td>\n",
       "      <td>869</td>\n",
       "      <td>7560</td>\n",
       "      <td>4120</td>\n",
       "      <td>800</td>\n",
       "      <td>1500</td>\n",
       "      <td>76</td>\n",
       "      <td>72</td>\n",
       "      <td>11.9</td>\n",
       "      <td>2</td>\n",
       "      <td>10922</td>\n",
       "      <td>15</td>\n",
       "      <td>1</td>\n",
       "    </tr>\n",
       "  </tbody>\n",
       "</table>\n",
       "</div>"
      ],
      "text/plain": [
       "                              Apps  Accept  Enroll  Top10perc  Top25perc  \\\n",
       "Abilene Christian University  1660    1232     721         23         52   \n",
       "Adelphi University            2186    1924     512         16         29   \n",
       "Adrian College                1428    1097     336         22         50   \n",
       "Agnes Scott College            417     349     137         60         89   \n",
       "Alaska Pacific University      193     146      55         16         44   \n",
       "\n",
       "                              F.Undergrad  P.Undergrad  Outstate  Room.Board  \\\n",
       "Abilene Christian University         2885          537      7440        3300   \n",
       "Adelphi University                   2683         1227     12280        6450   \n",
       "Adrian College                       1036           99     11250        3750   \n",
       "Agnes Scott College                   510           63     12960        5450   \n",
       "Alaska Pacific University             249          869      7560        4120   \n",
       "\n",
       "                              Books  Personal  PhD  Terminal  S.F.Ratio  \\\n",
       "Abilene Christian University    450      2200   70        78       18.1   \n",
       "Adelphi University              750      1500   29        30       12.2   \n",
       "Adrian College                  400      1165   53        66       12.9   \n",
       "Agnes Scott College             450       875   92        97        7.7   \n",
       "Alaska Pacific University       800      1500   76        72       11.9   \n",
       "\n",
       "                              perc.alumni  Expend  Grad.Rate  Cluster  \n",
       "Abilene Christian University           12    7041         60        1  \n",
       "Adelphi University                     16   10527         56        1  \n",
       "Adrian College                         30    8735         54        1  \n",
       "Agnes Scott College                    37   19016         59        1  \n",
       "Alaska Pacific University               2   10922         15        1  "
      ]
     },
     "execution_count": 41,
     "metadata": {},
     "output_type": "execute_result"
    }
   ],
   "source": [
    "def cluster(string):\n",
    "    if string == 'Yes':\n",
    "        return 1\n",
    "    else:\n",
    "        return 0\n",
    "\n",
    "\n",
    "df['Cluster'] = df['Private'].apply(cluster)\n",
    "del df['Private']\n",
    "df.head()"
   ]
  },
  {
   "cell_type": "markdown",
   "metadata": {},
   "source": [
    "** Create a confusion matrix and classification report to see how well the Kmeans clustering worked without being given any labels.**"
   ]
  },
  {
   "cell_type": "code",
   "execution_count": 42,
   "metadata": {},
   "outputs": [],
   "source": [
    "from sklearn.metrics import classification_report, confusion_matrix"
   ]
  },
  {
   "cell_type": "code",
   "execution_count": 43,
   "metadata": {},
   "outputs": [
    {
     "name": "stdout",
     "output_type": "stream",
     "text": [
      "             precision    recall  f1-score   support\n",
      "\n",
      "          0       0.21      0.65      0.31       212\n",
      "          1       0.31      0.06      0.10       564\n",
      "\n",
      "avg / total       0.29      0.22      0.16       776\n",
      "\n"
     ]
    }
   ],
   "source": [
    "print(classification_report(df['Cluster'],kmeans.labels_))"
   ]
  },
  {
   "cell_type": "code",
   "execution_count": 44,
   "metadata": {},
   "outputs": [
    {
     "name": "stdout",
     "output_type": "stream",
     "text": [
      "[[138  74]\n",
      " [530  34]]\n"
     ]
    }
   ],
   "source": [
    "print(confusion_matrix(df['Cluster'],kmeans.labels_))"
   ]
  },
  {
   "cell_type": "markdown",
   "metadata": {},
   "source": [
    "Not so bad considering the algorithm is purely using the features to cluster the universities into 2 distinct groups! Hopefully you can begin to see how K Means is useful for clustering un-labeled data!\n",
    "\n",
    "## Great Job!"
   ]
  }
 ],
 "metadata": {
  "kernelspec": {
   "display_name": "Python 3",
   "language": "python",
   "name": "python3"
  },
  "language_info": {
   "codemirror_mode": {
    "name": "ipython",
    "version": 3
   },
   "file_extension": ".py",
   "mimetype": "text/x-python",
   "name": "python",
   "nbconvert_exporter": "python",
   "pygments_lexer": "ipython3",
   "version": "3.6.4"
  }
 },
 "nbformat": 4,
 "nbformat_minor": 1
}
